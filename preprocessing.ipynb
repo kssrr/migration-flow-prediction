{
 "cells": [
  {
   "cell_type": "markdown",
   "metadata": {},
   "source": [
    "# Preprocessing\n",
    "\n",
    "Log transformation where neccessary, scaling, and random forest imputation."
   ]
  },
  {
   "cell_type": "code",
   "execution_count": 1,
   "metadata": {},
   "outputs": [],
   "source": [
    "import pandas as pd\n",
    "import numpy as np\n",
    "\n",
    "from sklearn.preprocessing import MinMaxScaler, FunctionTransformer\n",
    "from sklearn.compose import ColumnTransformer\n",
    "from sklearn.pipeline import Pipeline\n",
    "from sklearn.experimental import enable_iterative_imputer\n",
    "from sklearn.impute import IterativeImputer\n",
    "from sklearn.ensemble import RandomForestRegressor"
   ]
  },
  {
   "cell_type": "markdown",
   "metadata": {},
   "source": [
    "## Prep"
   ]
  },
  {
   "cell_type": "code",
   "execution_count": 2,
   "metadata": {},
   "outputs": [],
   "source": [
    "data = pd.read_csv(\"../data/full.csv\")"
   ]
  },
  {
   "cell_type": "markdown",
   "metadata": {},
   "source": [
    "Restrict to OECD destinations:"
   ]
  },
  {
   "cell_type": "code",
   "execution_count": 3,
   "metadata": {},
   "outputs": [
    {
     "data": {
      "text/plain": [
       "(167400, 31)"
      ]
     },
     "execution_count": 3,
     "metadata": {},
     "output_type": "execute_result"
    }
   ],
   "source": [
    "oecd = [\n",
    "    \"AUS\", \"AUT\", \"BEL\", \"CAN\", \"CHL\", \"CZE\", \"DNK\", \n",
    "    \"EST\", \"FIN\", \"FRA\", \"DEU\", \"GRC\", \"HUN\", \"ISL\", \n",
    "    \"IRL\", \"ISR\", \"ITA\", \"JPN\", \"KOR\", \"LUX\", \"MEX\", \n",
    "    \"NLD\", \"NZL\", \"NOR\", \"POL\", \"PRT\", \"SVK\", \"SVN\", \n",
    "    \"ESP\", \"SWE\", \"CHE\", \"TUR\", \"GBR\", \"USA\"\n",
    "]\n",
    "\n",
    "data = data[data[\"destination_iso3\"].isin(oecd)].reset_index(drop=True)\n",
    "data.shape"
   ]
  },
  {
   "cell_type": "markdown",
   "metadata": {},
   "source": [
    "One-hot encoding for origin & destination country:"
   ]
  },
  {
   "cell_type": "code",
   "execution_count": 4,
   "metadata": {},
   "outputs": [],
   "source": [
    "data = pd.get_dummies(data, columns=[\"origin_iso3\"], prefix=\"origin\")\n",
    "data = pd.get_dummies(data, columns=[\"destination_iso3\"], prefix=\"dest\")"
   ]
  },
  {
   "cell_type": "markdown",
   "metadata": {},
   "source": [
    "## Transformations"
   ]
  },
  {
   "cell_type": "code",
   "execution_count": 5,
   "metadata": {},
   "outputs": [],
   "source": [
    "log_features = list(data.filter(regex=\"conflict_deaths|gdp(?!_g)|disaster_deaths|population\").columns)\n",
    "numeric_boolean_features = list(data.select_dtypes(include=[\"number\", \"boolean\"]).drop([\"total\"], axis=1).columns)"
   ]
  },
  {
   "cell_type": "code",
   "execution_count": 6,
   "metadata": {},
   "outputs": [],
   "source": [
    "class LogTransformer(FunctionTransformer):\n",
    "    def __init__(self, columns=None, **kwargs):\n",
    "        super().__init__(func=np.log1p, validate=False, **kwargs)\n",
    "        self.columns = columns\n",
    "\n",
    "    def transform(self, X):\n",
    "        X = X.copy()\n",
    "        if self.columns is not None:\n",
    "            X[self.columns] = super().transform(X[self.columns])\n",
    "        return X"
   ]
  },
  {
   "cell_type": "code",
   "execution_count": 7,
   "metadata": {},
   "outputs": [],
   "source": [
    "preprocessor = ColumnTransformer(\n",
    "    transformers=[\n",
    "        ('log', LogTransformer(columns=log_features), numeric_boolean_features),\n",
    "        ('scaler', MinMaxScaler(), numeric_boolean_features)\n",
    "    ],\n",
    "    remainder='passthrough'\n",
    ")\n",
    "\n",
    "pipeline = Pipeline(steps=[\n",
    "    ('preprocessor', preprocessor),\n",
    "    ('imputer', IterativeImputer(estimator=RandomForestRegressor(n_estimators=100, random_state=42), random_state=42))\n",
    "])"
   ]
  },
  {
   "cell_type": "code",
   "execution_count": null,
   "metadata": {},
   "outputs": [],
   "source": [
    "processed = pipeline.fit_transform(data)"
   ]
  }
 ],
 "metadata": {
  "kernelspec": {
   "display_name": "base",
   "language": "python",
   "name": "python3"
  },
  "language_info": {
   "codemirror_mode": {
    "name": "ipython",
    "version": 3
   },
   "file_extension": ".py",
   "mimetype": "text/x-python",
   "name": "python",
   "nbconvert_exporter": "python",
   "pygments_lexer": "ipython3",
   "version": "3.11.5"
  }
 },
 "nbformat": 4,
 "nbformat_minor": 2
}
