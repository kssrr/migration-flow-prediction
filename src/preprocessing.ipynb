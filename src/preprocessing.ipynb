{
 "cells": [
  {
   "cell_type": "markdown",
   "metadata": {},
   "source": [
    "# Preprocessing\n",
    "\n",
    "Log-transformation where neccessary, scaling & model-based imputation"
   ]
  },
  {
   "cell_type": "code",
   "execution_count": 1,
   "metadata": {},
   "outputs": [],
   "source": [
    "import pandas as pd\n",
    "import numpy as np\n",
    "\n",
    "from sklearn.preprocessing import MinMaxScaler, FunctionTransformer\n",
    "from sklearn.compose import ColumnTransformer\n",
    "from sklearn.pipeline import Pipeline\n",
    "from sklearn.experimental import enable_iterative_imputer\n",
    "from sklearn.impute import IterativeImputer\n",
    "from sklearn.linear_model import BayesianRidge"
   ]
  },
  {
   "cell_type": "code",
   "execution_count": 2,
   "metadata": {},
   "outputs": [
    {
     "data": {
      "text/plain": [
       "(13760, 13)"
      ]
     },
     "execution_count": 2,
     "metadata": {},
     "output_type": "execute_result"
    }
   ],
   "source": [
    "data = pd.read_csv(\"../data/final/full.csv\")\n",
    "data.shape"
   ]
  },
  {
   "cell_type": "markdown",
   "metadata": {},
   "source": [
    "## Engineering additional features"
   ]
  },
  {
   "cell_type": "markdown",
   "metadata": {},
   "source": [
    "One-hot encoding countries and decade:"
   ]
  },
  {
   "cell_type": "code",
   "execution_count": 3,
   "metadata": {},
   "outputs": [
    {
     "data": {
      "text/plain": [
       "(13760, 236)"
      ]
     },
     "execution_count": 3,
     "metadata": {},
     "output_type": "execute_result"
    }
   ],
   "source": [
    "data[\"decade\"] = data[\"year\"] - (data[\"year\"] % 10)\n",
    "\n",
    "data = pd.concat([\n",
    "    data,\n",
    "    pd.get_dummies(data[\"iso3\"], dtype=int),\n",
    "    pd.get_dummies(data[\"decade\"], dtype=int)\n",
    "], axis=1)\n",
    "\n",
    "data.columns = data.columns.astype(str) # pandas sucks ass\n",
    "data.shape"
   ]
  },
  {
   "cell_type": "markdown",
   "metadata": {},
   "source": [
    "## Transformations"
   ]
  },
  {
   "cell_type": "code",
   "execution_count": 4,
   "metadata": {},
   "outputs": [],
   "source": [
    "log_features = [\"conflict_deaths\", \"gdp\", \"disaster_deaths_per_100k\", \"population\"]\n",
    "to_use = list(data.drop([\"iso3\", \"year\", \"decade\"], axis=1).columns)"
   ]
  },
  {
   "cell_type": "markdown",
   "metadata": {},
   "source": [
    "Train-test split:"
   ]
  },
  {
   "cell_type": "code",
   "execution_count": 5,
   "metadata": {},
   "outputs": [],
   "source": [
    "train = data[data[\"year\"] < 2016]\n",
    "val = data[data[\"year\"].isin([2016, 2017, 2018])]\n",
    "test = data[data[\"year\"] > 2018]"
   ]
  },
  {
   "cell_type": "markdown",
   "metadata": {},
   "source": [
    "Preprocessing pipeline:"
   ]
  },
  {
   "cell_type": "code",
   "execution_count": 6,
   "metadata": {},
   "outputs": [],
   "source": [
    "log_transformer = FunctionTransformer(\n",
    "    func=lambda X: X.assign(**{col: np.log1p(X[col]) for col in log_features}),\n",
    "    validate=False\n",
    ")\n",
    "\n",
    "imputer = IterativeImputer(\n",
    "    estimator=BayesianRidge(),\n",
    "    random_state=42,\n",
    "    verbose=2,  \n",
    "    max_iter=100\n",
    ")\n",
    "\n",
    "pipeline = Pipeline(steps=[\n",
    "    (\"log\", log_transformer),\n",
    "    (\"scaler\", MinMaxScaler()),\n",
    "    (\"imputer\", imputer)\n",
    "])"
   ]
  },
  {
   "cell_type": "markdown",
   "metadata": {},
   "source": [
    "Transform separately to avoid leakage (fit pipeline on training data, then transform training, validation and testing data separately):"
   ]
  },
  {
   "cell_type": "code",
   "execution_count": 7,
   "metadata": {},
   "outputs": [
    {
     "name": "stdout",
     "output_type": "stream",
     "text": [
      "[IterativeImputer] Completing matrix with shape (12040, 233)\n",
      "[IterativeImputer] Ending imputation round 1/100, elapsed time 46.60\n",
      "[IterativeImputer] Change: 2.0538119989009656, scaled tolerance: 0.0010000000000000002 \n",
      "[IterativeImputer] Ending imputation round 2/100, elapsed time 92.14\n",
      "[IterativeImputer] Change: 0.4740281780746819, scaled tolerance: 0.0010000000000000002 \n",
      "[IterativeImputer] Ending imputation round 3/100, elapsed time 138.58\n",
      "[IterativeImputer] Change: 0.07125727070652091, scaled tolerance: 0.0010000000000000002 \n",
      "[IterativeImputer] Ending imputation round 4/100, elapsed time 185.59\n",
      "[IterativeImputer] Change: 0.01706779592117126, scaled tolerance: 0.0010000000000000002 \n",
      "[IterativeImputer] Ending imputation round 5/100, elapsed time 232.60\n",
      "[IterativeImputer] Change: 0.005717355611634292, scaled tolerance: 0.0010000000000000002 \n",
      "[IterativeImputer] Ending imputation round 6/100, elapsed time 282.58\n",
      "[IterativeImputer] Change: 0.0019738977190201235, scaled tolerance: 0.0010000000000000002 \n",
      "[IterativeImputer] Ending imputation round 7/100, elapsed time 348.40\n",
      "[IterativeImputer] Change: 0.000680970028603553, scaled tolerance: 0.0010000000000000002 \n",
      "[IterativeImputer] Early stopping criterion reached.\n"
     ]
    },
    {
     "data": {
      "text/html": [
       "<style>#sk-container-id-1 {color: black;}#sk-container-id-1 pre{padding: 0;}#sk-container-id-1 div.sk-toggleable {background-color: white;}#sk-container-id-1 label.sk-toggleable__label {cursor: pointer;display: block;width: 100%;margin-bottom: 0;padding: 0.3em;box-sizing: border-box;text-align: center;}#sk-container-id-1 label.sk-toggleable__label-arrow:before {content: \"▸\";float: left;margin-right: 0.25em;color: #696969;}#sk-container-id-1 label.sk-toggleable__label-arrow:hover:before {color: black;}#sk-container-id-1 div.sk-estimator:hover label.sk-toggleable__label-arrow:before {color: black;}#sk-container-id-1 div.sk-toggleable__content {max-height: 0;max-width: 0;overflow: hidden;text-align: left;background-color: #f0f8ff;}#sk-container-id-1 div.sk-toggleable__content pre {margin: 0.2em;color: black;border-radius: 0.25em;background-color: #f0f8ff;}#sk-container-id-1 input.sk-toggleable__control:checked~div.sk-toggleable__content {max-height: 200px;max-width: 100%;overflow: auto;}#sk-container-id-1 input.sk-toggleable__control:checked~label.sk-toggleable__label-arrow:before {content: \"▾\";}#sk-container-id-1 div.sk-estimator input.sk-toggleable__control:checked~label.sk-toggleable__label {background-color: #d4ebff;}#sk-container-id-1 div.sk-label input.sk-toggleable__control:checked~label.sk-toggleable__label {background-color: #d4ebff;}#sk-container-id-1 input.sk-hidden--visually {border: 0;clip: rect(1px 1px 1px 1px);clip: rect(1px, 1px, 1px, 1px);height: 1px;margin: -1px;overflow: hidden;padding: 0;position: absolute;width: 1px;}#sk-container-id-1 div.sk-estimator {font-family: monospace;background-color: #f0f8ff;border: 1px dotted black;border-radius: 0.25em;box-sizing: border-box;margin-bottom: 0.5em;}#sk-container-id-1 div.sk-estimator:hover {background-color: #d4ebff;}#sk-container-id-1 div.sk-parallel-item::after {content: \"\";width: 100%;border-bottom: 1px solid gray;flex-grow: 1;}#sk-container-id-1 div.sk-label:hover label.sk-toggleable__label {background-color: #d4ebff;}#sk-container-id-1 div.sk-serial::before {content: \"\";position: absolute;border-left: 1px solid gray;box-sizing: border-box;top: 0;bottom: 0;left: 50%;z-index: 0;}#sk-container-id-1 div.sk-serial {display: flex;flex-direction: column;align-items: center;background-color: white;padding-right: 0.2em;padding-left: 0.2em;position: relative;}#sk-container-id-1 div.sk-item {position: relative;z-index: 1;}#sk-container-id-1 div.sk-parallel {display: flex;align-items: stretch;justify-content: center;background-color: white;position: relative;}#sk-container-id-1 div.sk-item::before, #sk-container-id-1 div.sk-parallel-item::before {content: \"\";position: absolute;border-left: 1px solid gray;box-sizing: border-box;top: 0;bottom: 0;left: 50%;z-index: -1;}#sk-container-id-1 div.sk-parallel-item {display: flex;flex-direction: column;z-index: 1;position: relative;background-color: white;}#sk-container-id-1 div.sk-parallel-item:first-child::after {align-self: flex-end;width: 50%;}#sk-container-id-1 div.sk-parallel-item:last-child::after {align-self: flex-start;width: 50%;}#sk-container-id-1 div.sk-parallel-item:only-child::after {width: 0;}#sk-container-id-1 div.sk-dashed-wrapped {border: 1px dashed gray;margin: 0 0.4em 0.5em 0.4em;box-sizing: border-box;padding-bottom: 0.4em;background-color: white;}#sk-container-id-1 div.sk-label label {font-family: monospace;font-weight: bold;display: inline-block;line-height: 1.2em;}#sk-container-id-1 div.sk-label-container {text-align: center;}#sk-container-id-1 div.sk-container {/* jupyter's `normalize.less` sets `[hidden] { display: none; }` but bootstrap.min.css set `[hidden] { display: none !important; }` so we also need the `!important` here to be able to override the default hidden behavior on the sphinx rendered scikit-learn.org. See: https://github.com/scikit-learn/scikit-learn/issues/21755 */display: inline-block !important;position: relative;}#sk-container-id-1 div.sk-text-repr-fallback {display: none;}</style><div id=\"sk-container-id-1\" class=\"sk-top-container\"><div class=\"sk-text-repr-fallback\"><pre>Pipeline(steps=[(&#x27;log&#x27;,\n",
       "                 FunctionTransformer(func=&lt;function &lt;lambda&gt; at 0x7f0e6cbd2b60&gt;)),\n",
       "                (&#x27;scaler&#x27;, MinMaxScaler()),\n",
       "                (&#x27;imputer&#x27;,\n",
       "                 IterativeImputer(estimator=BayesianRidge(), max_iter=100,\n",
       "                                  random_state=42, verbose=2))])</pre><b>In a Jupyter environment, please rerun this cell to show the HTML representation or trust the notebook. <br />On GitHub, the HTML representation is unable to render, please try loading this page with nbviewer.org.</b></div><div class=\"sk-container\" hidden><div class=\"sk-item sk-dashed-wrapped\"><div class=\"sk-label-container\"><div class=\"sk-label sk-toggleable\"><input class=\"sk-toggleable__control sk-hidden--visually\" id=\"sk-estimator-id-1\" type=\"checkbox\" ><label for=\"sk-estimator-id-1\" class=\"sk-toggleable__label sk-toggleable__label-arrow\">Pipeline</label><div class=\"sk-toggleable__content\"><pre>Pipeline(steps=[(&#x27;log&#x27;,\n",
       "                 FunctionTransformer(func=&lt;function &lt;lambda&gt; at 0x7f0e6cbd2b60&gt;)),\n",
       "                (&#x27;scaler&#x27;, MinMaxScaler()),\n",
       "                (&#x27;imputer&#x27;,\n",
       "                 IterativeImputer(estimator=BayesianRidge(), max_iter=100,\n",
       "                                  random_state=42, verbose=2))])</pre></div></div></div><div class=\"sk-serial\"><div class=\"sk-item\"><div class=\"sk-estimator sk-toggleable\"><input class=\"sk-toggleable__control sk-hidden--visually\" id=\"sk-estimator-id-2\" type=\"checkbox\" ><label for=\"sk-estimator-id-2\" class=\"sk-toggleable__label sk-toggleable__label-arrow\">FunctionTransformer</label><div class=\"sk-toggleable__content\"><pre>FunctionTransformer(func=&lt;function &lt;lambda&gt; at 0x7f0e6cbd2b60&gt;)</pre></div></div></div><div class=\"sk-item\"><div class=\"sk-estimator sk-toggleable\"><input class=\"sk-toggleable__control sk-hidden--visually\" id=\"sk-estimator-id-3\" type=\"checkbox\" ><label for=\"sk-estimator-id-3\" class=\"sk-toggleable__label sk-toggleable__label-arrow\">MinMaxScaler</label><div class=\"sk-toggleable__content\"><pre>MinMaxScaler()</pre></div></div></div><div class=\"sk-item sk-dashed-wrapped\"><div class=\"sk-label-container\"><div class=\"sk-label sk-toggleable\"><input class=\"sk-toggleable__control sk-hidden--visually\" id=\"sk-estimator-id-4\" type=\"checkbox\" ><label for=\"sk-estimator-id-4\" class=\"sk-toggleable__label sk-toggleable__label-arrow\">imputer: IterativeImputer</label><div class=\"sk-toggleable__content\"><pre>IterativeImputer(estimator=BayesianRidge(), max_iter=100, random_state=42,\n",
       "                 verbose=2)</pre></div></div></div><div class=\"sk-parallel\"><div class=\"sk-parallel-item\"><div class=\"sk-item\"><div class=\"sk-label-container\"><div class=\"sk-label sk-toggleable\"><input class=\"sk-toggleable__control sk-hidden--visually\" id=\"sk-estimator-id-5\" type=\"checkbox\" ><label for=\"sk-estimator-id-5\" class=\"sk-toggleable__label sk-toggleable__label-arrow\">estimator: BayesianRidge</label><div class=\"sk-toggleable__content\"><pre>BayesianRidge()</pre></div></div></div><div class=\"sk-serial\"><div class=\"sk-item\"><div class=\"sk-estimator sk-toggleable\"><input class=\"sk-toggleable__control sk-hidden--visually\" id=\"sk-estimator-id-6\" type=\"checkbox\" ><label for=\"sk-estimator-id-6\" class=\"sk-toggleable__label sk-toggleable__label-arrow\">BayesianRidge</label><div class=\"sk-toggleable__content\"><pre>BayesianRidge()</pre></div></div></div></div></div></div></div></div></div></div></div></div>"
      ],
      "text/plain": [
       "Pipeline(steps=[('log',\n",
       "                 FunctionTransformer(func=<function <lambda> at 0x7f0e6cbd2b60>)),\n",
       "                ('scaler', MinMaxScaler()),\n",
       "                ('imputer',\n",
       "                 IterativeImputer(estimator=BayesianRidge(), max_iter=100,\n",
       "                                  random_state=42, verbose=2))])"
      ]
     },
     "execution_count": 7,
     "metadata": {},
     "output_type": "execute_result"
    }
   ],
   "source": [
    "pipeline.fit(train[to_use])"
   ]
  },
  {
   "cell_type": "code",
   "execution_count": 31,
   "metadata": {},
   "outputs": [
    {
     "name": "stdout",
     "output_type": "stream",
     "text": [
      "[IterativeImputer] Completing matrix with shape (12040, 233)\n",
      "[IterativeImputer] Ending imputation round 1/7, elapsed time 0.26\n",
      "[IterativeImputer] Ending imputation round 2/7, elapsed time 0.36\n",
      "[IterativeImputer] Ending imputation round 3/7, elapsed time 0.46\n",
      "[IterativeImputer] Ending imputation round 4/7, elapsed time 0.57\n",
      "[IterativeImputer] Ending imputation round 5/7, elapsed time 0.68\n",
      "[IterativeImputer] Ending imputation round 6/7, elapsed time 0.77\n",
      "[IterativeImputer] Ending imputation round 7/7, elapsed time 0.89\n",
      "[IterativeImputer] Completing matrix with shape (645, 233)\n",
      "[IterativeImputer] Ending imputation round 1/7, elapsed time 0.01\n",
      "[IterativeImputer] Ending imputation round 2/7, elapsed time 0.02\n",
      "[IterativeImputer] Ending imputation round 3/7, elapsed time 0.02\n",
      "[IterativeImputer] Ending imputation round 4/7, elapsed time 0.03\n",
      "[IterativeImputer] Ending imputation round 5/7, elapsed time 0.04\n",
      "[IterativeImputer] Ending imputation round 6/7, elapsed time 0.06\n",
      "[IterativeImputer] Ending imputation round 7/7, elapsed time 0.07\n",
      "[IterativeImputer] Completing matrix with shape (1075, 233)\n",
      "[IterativeImputer] Ending imputation round 1/7, elapsed time 0.01\n",
      "[IterativeImputer] Ending imputation round 2/7, elapsed time 0.02\n",
      "[IterativeImputer] Ending imputation round 3/7, elapsed time 0.04\n",
      "[IterativeImputer] Ending imputation round 4/7, elapsed time 0.05\n",
      "[IterativeImputer] Ending imputation round 5/7, elapsed time 0.07\n",
      "[IterativeImputer] Ending imputation round 6/7, elapsed time 0.08\n",
      "[IterativeImputer] Ending imputation round 7/7, elapsed time 0.09\n"
     ]
    }
   ],
   "source": [
    "train = pd.concat([train[[\"iso3\", \"year\"]].reset_index(drop=True), pd.DataFrame(pipeline.transform(train[to_use]), columns=to_use)], axis=1).assign(set=\"train\")\n",
    "val = pd.concat([val[[\"iso3\", \"year\"]].reset_index(drop=True), pd.DataFrame(pipeline.transform(val[to_use]), columns=to_use)], axis=1).assign(set=\"val\")\n",
    "test = pd.concat([test[[\"iso3\", \"year\"]].reset_index(drop=True), pd.DataFrame(pipeline.transform(test[to_use]), columns=to_use)], axis=1).assign(set=\"test\")"
   ]
  },
  {
   "cell_type": "code",
   "execution_count": 33,
   "metadata": {},
   "outputs": [],
   "source": [
    "full = pd.concat([train, val, test])"
   ]
  },
  {
   "cell_type": "markdown",
   "metadata": {},
   "source": [
    "Construct outcome:"
   ]
  },
  {
   "cell_type": "code",
   "execution_count": 34,
   "metadata": {},
   "outputs": [],
   "source": [
    "full[\"net_migration_tp1\"] = full.groupby(by=\"iso3\").shift(-1)[\"net_migration\"]\n",
    "full = full.dropna(subset=\"net_migration_tp1\")"
   ]
  },
  {
   "cell_type": "markdown",
   "metadata": {},
   "source": [
    "Export:"
   ]
  },
  {
   "cell_type": "code",
   "execution_count": 36,
   "metadata": {},
   "outputs": [],
   "source": [
    "full.to_csv(\"../data/final/preprocessed_full.csv\")"
   ]
  }
 ],
 "metadata": {
  "kernelspec": {
   "display_name": "base",
   "language": "python",
   "name": "python3"
  },
  "language_info": {
   "codemirror_mode": {
    "name": "ipython",
    "version": 3
   },
   "file_extension": ".py",
   "mimetype": "text/x-python",
   "name": "python",
   "nbconvert_exporter": "python",
   "pygments_lexer": "ipython3",
   "version": "3.11.5"
  }
 },
 "nbformat": 4,
 "nbformat_minor": 2
}
