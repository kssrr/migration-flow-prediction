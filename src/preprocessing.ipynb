{
 "cells": [
  {
   "cell_type": "markdown",
   "metadata": {},
   "source": [
    "# Preprocessing\n",
    "\n",
    "Log-transformation where neccessary, scaling & model-based imputation"
   ]
  },
  {
   "cell_type": "code",
   "execution_count": 9,
   "metadata": {},
   "outputs": [],
   "source": [
    "import pandas as pd\n",
    "import numpy as np\n",
    "\n",
    "from sklearn.preprocessing import MinMaxScaler, FunctionTransformer\n",
    "from sklearn.compose import ColumnTransformer\n",
    "from sklearn.pipeline import Pipeline\n",
    "from sklearn.experimental import enable_iterative_imputer\n",
    "from sklearn.impute import IterativeImputer\n",
    "#from sklearn.ensemble import RandomForestRegressor\n",
    "from sklearn.linear_model import BayesianRidge"
   ]
  },
  {
   "cell_type": "code",
   "execution_count": 10,
   "metadata": {},
   "outputs": [
    {
     "data": {
      "text/plain": [
       "(13760, 13)"
      ]
     },
     "execution_count": 10,
     "metadata": {},
     "output_type": "execute_result"
    }
   ],
   "source": [
    "data = pd.read_csv(\"../data/final/full.csv\")\n",
    "\n",
    "# Restrict to OECD:\n",
    "oecd = [\n",
    "    \"AUS\", \"AUT\", \"BEL\", \"CAN\", \"CHL\", \"CZE\", \"DNK\", \n",
    "    \"EST\", \"FIN\", \"FRA\", \"DEU\", \"GRC\", \"HUN\", \"ISL\", \n",
    "    \"IRL\", \"ISR\", \"ITA\", \"JPN\", \"KOR\", \"LUX\", \"MEX\", \n",
    "    \"NLD\", \"NZL\", \"NOR\", \"POL\", \"PRT\", \"SVK\", \"SVN\", \n",
    "    \"ESP\", \"SWE\", \"CHE\", \"TUR\", \"GBR\", \"USA\"\n",
    "]\n",
    "\n",
    "#data = data[data[\"iso3\"].isin(oecd)].reset_index(drop=True)\n",
    "data.shape"
   ]
  },
  {
   "cell_type": "markdown",
   "metadata": {},
   "source": [
    "## Engineering additional features"
   ]
  },
  {
   "cell_type": "markdown",
   "metadata": {},
   "source": [
    "One-hot encoding countries and years:"
   ]
  },
  {
   "cell_type": "code",
   "execution_count": 11,
   "metadata": {},
   "outputs": [],
   "source": [
    "data = pd.concat([\n",
    "    data,\n",
    "    pd.get_dummies(data[\"iso3\"], dtype=int),\n",
    "    pd.get_dummies(data[\"year\"], dtype=int)\n",
    "], axis=1)\n",
    "\n",
    "data.columns = data.columns.astype(str) # pandas sucks ass"
   ]
  },
  {
   "cell_type": "markdown",
   "metadata": {},
   "source": [
    "## Transformations"
   ]
  },
  {
   "cell_type": "code",
   "execution_count": 12,
   "metadata": {},
   "outputs": [],
   "source": [
    "log_features = [\"conflict_deaths\", \"gdp\", \"disaster_deaths_per_100k\", \"population\"]\n",
    "numeric_features = [*log_features, \"gdp_growth\", \"internet_usage\", \"liberal_dem\", \"pop_growth\", \"unemployment_youth\"]\n",
    "\n",
    "to_use = list(data.drop([\"net_migration\", \"iso3\", \"year\"], axis=1).columns)"
   ]
  },
  {
   "cell_type": "code",
   "execution_count": 13,
   "metadata": {},
   "outputs": [],
   "source": [
    "log_transformer = FunctionTransformer(\n",
    "    func=lambda X: X.assign(**{col: np.log1p(X[col]) for col in log_features}),\n",
    "    validate=False\n",
    ")\n",
    "\n",
    "numeric_pipeline = Pipeline(steps=[\n",
    "    ('log', log_transformer),\n",
    "    ('scaler', MinMaxScaler())\n",
    "])\n",
    "\n",
    "preprocessor = ColumnTransformer(\n",
    "    transformers=[\n",
    "        ('num', numeric_pipeline, numeric_features)\n",
    "    ],\n",
    "    remainder='passthrough'\n",
    ")\n",
    "\n",
    "imputer = IterativeImputer(\n",
    "    estimator=BayesianRidge(),\n",
    "    random_state=42,\n",
    "    verbose=2,  \n",
    "    max_iter=100\n",
    ")\n",
    "\n",
    "pipeline = Pipeline(steps=[\n",
    "    ('preprocessor', preprocessor),\n",
    "    ('imputer', imputer)\n",
    "])"
   ]
  },
  {
   "cell_type": "code",
   "execution_count": 14,
   "metadata": {},
   "outputs": [
    {
     "name": "stdout",
     "output_type": "stream",
     "text": [
      "[IterativeImputer] Completing matrix with shape (13760, 289)\n",
      "[IterativeImputer] Ending imputation round 1/100, elapsed time 148.51\n",
      "[IterativeImputer] Change: 2.210938100254739, scaled tolerance: 0.001 \n",
      "[IterativeImputer] Ending imputation round 2/100, elapsed time 307.81\n",
      "[IterativeImputer] Change: 0.5334706867582633, scaled tolerance: 0.001 \n",
      "[IterativeImputer] Ending imputation round 3/100, elapsed time 535.70\n",
      "[IterativeImputer] Change: 0.507622791482098, scaled tolerance: 0.001 \n",
      "[IterativeImputer] Ending imputation round 4/100, elapsed time 690.81\n",
      "[IterativeImputer] Change: 0.1007107703745424, scaled tolerance: 0.001 \n",
      "[IterativeImputer] Ending imputation round 5/100, elapsed time 833.17\n",
      "[IterativeImputer] Change: 0.059585537263403834, scaled tolerance: 0.001 \n",
      "[IterativeImputer] Ending imputation round 6/100, elapsed time 975.07\n",
      "[IterativeImputer] Change: 0.0451479189394003, scaled tolerance: 0.001 \n",
      "[IterativeImputer] Ending imputation round 7/100, elapsed time 1220.43\n",
      "[IterativeImputer] Change: 0.03272492804641196, scaled tolerance: 0.001 \n",
      "[IterativeImputer] Ending imputation round 8/100, elapsed time 1382.14\n",
      "[IterativeImputer] Change: 0.023273855764747095, scaled tolerance: 0.001 \n",
      "[IterativeImputer] Ending imputation round 9/100, elapsed time 1534.24\n",
      "[IterativeImputer] Change: 0.01644516350828927, scaled tolerance: 0.001 \n",
      "[IterativeImputer] Ending imputation round 10/100, elapsed time 1685.83\n",
      "[IterativeImputer] Change: 0.011597035382486534, scaled tolerance: 0.001 \n",
      "[IterativeImputer] Ending imputation round 11/100, elapsed time 1859.32\n",
      "[IterativeImputer] Change: 0.008173905149654812, scaled tolerance: 0.001 \n",
      "[IterativeImputer] Ending imputation round 12/100, elapsed time 1988.92\n",
      "[IterativeImputer] Change: 0.005760669171661029, scaled tolerance: 0.001 \n",
      "[IterativeImputer] Ending imputation round 13/100, elapsed time 2101.54\n",
      "[IterativeImputer] Change: 0.004059986708848953, scaled tolerance: 0.001 \n",
      "[IterativeImputer] Ending imputation round 14/100, elapsed time 2221.74\n",
      "[IterativeImputer] Change: 0.0028614903885752496, scaled tolerance: 0.001 \n",
      "[IterativeImputer] Ending imputation round 15/100, elapsed time 2334.81\n",
      "[IterativeImputer] Change: 0.002016849608404106, scaled tolerance: 0.001 \n",
      "[IterativeImputer] Ending imputation round 16/100, elapsed time 2457.36\n",
      "[IterativeImputer] Change: 0.0014215563598449221, scaled tolerance: 0.001 \n",
      "[IterativeImputer] Ending imputation round 17/100, elapsed time 2580.68\n",
      "[IterativeImputer] Change: 0.001001982616397834, scaled tolerance: 0.001 \n",
      "[IterativeImputer] Ending imputation round 18/100, elapsed time 2732.72\n",
      "[IterativeImputer] Change: 0.0007062505554377152, scaled tolerance: 0.001 \n",
      "[IterativeImputer] Early stopping criterion reached.\n"
     ]
    }
   ],
   "source": [
    "transformed = pipeline.fit_transform(data[to_use])"
   ]
  },
  {
   "cell_type": "code",
   "execution_count": 15,
   "metadata": {},
   "outputs": [],
   "source": [
    "final = pd.concat([\n",
    "    data[[\"iso3\", \"year\", \"net_migration\"]],\n",
    "    pd.DataFrame(transformed, columns=to_use)\n",
    "], axis=1)"
   ]
  },
  {
   "cell_type": "code",
   "execution_count": 16,
   "metadata": {},
   "outputs": [],
   "source": [
    "final.to_csv(\"../data/final/preprocessed_full.csv\")"
   ]
  }
 ],
 "metadata": {
  "kernelspec": {
   "display_name": "venv",
   "language": "python",
   "name": "venv"
  },
  "language_info": {
   "codemirror_mode": {
    "name": "ipython",
    "version": 3
   },
   "file_extension": ".py",
   "mimetype": "text/x-python",
   "name": "python",
   "nbconvert_exporter": "python",
   "pygments_lexer": "ipython3",
   "version": "3.12.5"
  }
 },
 "nbformat": 4,
 "nbformat_minor": 2
}
