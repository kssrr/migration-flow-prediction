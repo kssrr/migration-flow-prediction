{
 "cells": [
  {
   "cell_type": "code",
   "execution_count": 103,
   "metadata": {},
   "outputs": [],
   "source": [
    "import torch\n",
    "import torch.nn as nn\n",
    "import torch.nn.functional as F\n",
    "import torch.optim as optim\n",
    "\n",
    "import pandas as pd\n",
    "import numpy as np\n",
    "import seaborn as sns\n",
    "import matplotlib.pyplot as plt\n",
    "\n",
    "from sklearn.metrics import mean_squared_error, mean_absolute_error, r2_score\n",
    "from sklearn.preprocessing import minmax_scale\n",
    "from sklearn.model_selection import train_test_split\n",
    "\n",
    "from torch.utils.data import Dataset, DataLoader, TensorDataset\n",
    "\n",
    "device = torch.device(\"cuda\" if torch.cuda.is_available() else \"cpu\")"
   ]
  },
  {
   "cell_type": "code",
   "execution_count": 3,
   "metadata": {},
   "outputs": [],
   "source": [
    "data = pd.read_csv(\"../data/final/preprocessed_full.csv\", index_col=[0])"
   ]
  },
  {
   "cell_type": "markdown",
   "metadata": {},
   "source": [
    "Build a \"plain\" time-series LSTM (takes a sequence of previous values & predicts the next):"
   ]
  },
  {
   "cell_type": "code",
   "execution_count": 16,
   "metadata": {},
   "outputs": [],
   "source": [
    "data = data[data[\"year\"] < 2022][[\"iso3\", \"year\", \"net_migration\"]]"
   ]
  },
  {
   "cell_type": "code",
   "execution_count": 24,
   "metadata": {},
   "outputs": [
    {
     "data": {
      "text/html": [
       "<div>\n",
       "<style scoped>\n",
       "    .dataframe tbody tr th:only-of-type {\n",
       "        vertical-align: middle;\n",
       "    }\n",
       "\n",
       "    .dataframe tbody tr th {\n",
       "        vertical-align: top;\n",
       "    }\n",
       "\n",
       "    .dataframe thead th {\n",
       "        text-align: right;\n",
       "    }\n",
       "</style>\n",
       "<table border=\"1\" class=\"dataframe\">\n",
       "  <thead>\n",
       "    <tr style=\"text-align: right;\">\n",
       "      <th>iso3</th>\n",
       "      <th>ABW</th>\n",
       "      <th>AFG</th>\n",
       "      <th>AGO</th>\n",
       "      <th>ALB</th>\n",
       "      <th>AND</th>\n",
       "      <th>ARE</th>\n",
       "      <th>ARG</th>\n",
       "      <th>ARM</th>\n",
       "      <th>ASM</th>\n",
       "      <th>ATG</th>\n",
       "      <th>...</th>\n",
       "      <th>VEN</th>\n",
       "      <th>VGB</th>\n",
       "      <th>VIR</th>\n",
       "      <th>VNM</th>\n",
       "      <th>VUT</th>\n",
       "      <th>WSM</th>\n",
       "      <th>YEM</th>\n",
       "      <th>ZAF</th>\n",
       "      <th>ZMB</th>\n",
       "      <th>ZWE</th>\n",
       "    </tr>\n",
       "    <tr>\n",
       "      <th>year</th>\n",
       "      <th></th>\n",
       "      <th></th>\n",
       "      <th></th>\n",
       "      <th></th>\n",
       "      <th></th>\n",
       "      <th></th>\n",
       "      <th></th>\n",
       "      <th></th>\n",
       "      <th></th>\n",
       "      <th></th>\n",
       "      <th></th>\n",
       "      <th></th>\n",
       "      <th></th>\n",
       "      <th></th>\n",
       "      <th></th>\n",
       "      <th></th>\n",
       "      <th></th>\n",
       "      <th></th>\n",
       "      <th></th>\n",
       "      <th></th>\n",
       "      <th></th>\n",
       "    </tr>\n",
       "  </thead>\n",
       "  <tbody>\n",
       "    <tr>\n",
       "      <th>1960</th>\n",
       "      <td>0.537799</td>\n",
       "      <td>0.538444</td>\n",
       "      <td>0.526967</td>\n",
       "      <td>0.541647</td>\n",
       "      <td>0.537958</td>\n",
       "      <td>0.538769</td>\n",
       "      <td>0.542850</td>\n",
       "      <td>0.540890</td>\n",
       "      <td>0.537735</td>\n",
       "      <td>0.537710</td>\n",
       "      <td>...</td>\n",
       "      <td>0.539871</td>\n",
       "      <td>0.537777</td>\n",
       "      <td>0.538057</td>\n",
       "      <td>0.537799</td>\n",
       "      <td>0.537799</td>\n",
       "      <td>0.537681</td>\n",
       "      <td>0.533554</td>\n",
       "      <td>0.542481</td>\n",
       "      <td>0.536835</td>\n",
       "      <td>0.535755</td>\n",
       "    </tr>\n",
       "    <tr>\n",
       "      <th>1961</th>\n",
       "      <td>0.537658</td>\n",
       "      <td>0.539312</td>\n",
       "      <td>0.525621</td>\n",
       "      <td>0.541618</td>\n",
       "      <td>0.537961</td>\n",
       "      <td>0.538810</td>\n",
       "      <td>0.545059</td>\n",
       "      <td>0.541180</td>\n",
       "      <td>0.537776</td>\n",
       "      <td>0.537630</td>\n",
       "      <td>...</td>\n",
       "      <td>0.539302</td>\n",
       "      <td>0.537764</td>\n",
       "      <td>0.538211</td>\n",
       "      <td>0.537799</td>\n",
       "      <td>0.537799</td>\n",
       "      <td>0.537633</td>\n",
       "      <td>0.533468</td>\n",
       "      <td>0.551688</td>\n",
       "      <td>0.536720</td>\n",
       "      <td>0.535674</td>\n",
       "    </tr>\n",
       "    <tr>\n",
       "      <th>1962</th>\n",
       "      <td>0.537648</td>\n",
       "      <td>0.539536</td>\n",
       "      <td>0.524289</td>\n",
       "      <td>0.541584</td>\n",
       "      <td>0.537964</td>\n",
       "      <td>0.538816</td>\n",
       "      <td>0.545075</td>\n",
       "      <td>0.541489</td>\n",
       "      <td>0.537775</td>\n",
       "      <td>0.537622</td>\n",
       "      <td>...</td>\n",
       "      <td>0.538883</td>\n",
       "      <td>0.537763</td>\n",
       "      <td>0.538249</td>\n",
       "      <td>0.537799</td>\n",
       "      <td>0.537799</td>\n",
       "      <td>0.537572</td>\n",
       "      <td>0.533381</td>\n",
       "      <td>0.554652</td>\n",
       "      <td>0.536622</td>\n",
       "      <td>0.535588</td>\n",
       "    </tr>\n",
       "    <tr>\n",
       "      <th>1963</th>\n",
       "      <td>0.537639</td>\n",
       "      <td>0.539453</td>\n",
       "      <td>0.522999</td>\n",
       "      <td>0.541515</td>\n",
       "      <td>0.537965</td>\n",
       "      <td>0.538799</td>\n",
       "      <td>0.545385</td>\n",
       "      <td>0.541807</td>\n",
       "      <td>0.537775</td>\n",
       "      <td>0.537617</td>\n",
       "      <td>...</td>\n",
       "      <td>0.538614</td>\n",
       "      <td>0.537764</td>\n",
       "      <td>0.538255</td>\n",
       "      <td>0.537799</td>\n",
       "      <td>0.537799</td>\n",
       "      <td>0.537552</td>\n",
       "      <td>0.533289</td>\n",
       "      <td>0.555372</td>\n",
       "      <td>0.536554</td>\n",
       "      <td>0.535480</td>\n",
       "    </tr>\n",
       "    <tr>\n",
       "      <th>1964</th>\n",
       "      <td>0.537630</td>\n",
       "      <td>0.539552</td>\n",
       "      <td>0.519986</td>\n",
       "      <td>0.541417</td>\n",
       "      <td>0.537966</td>\n",
       "      <td>0.538770</td>\n",
       "      <td>0.545802</td>\n",
       "      <td>0.542114</td>\n",
       "      <td>0.537775</td>\n",
       "      <td>0.537664</td>\n",
       "      <td>...</td>\n",
       "      <td>0.538396</td>\n",
       "      <td>0.537769</td>\n",
       "      <td>0.538257</td>\n",
       "      <td>0.535322</td>\n",
       "      <td>0.537799</td>\n",
       "      <td>0.537556</td>\n",
       "      <td>0.533198</td>\n",
       "      <td>0.556224</td>\n",
       "      <td>0.536508</td>\n",
       "      <td>0.535307</td>\n",
       "    </tr>\n",
       "    <tr>\n",
       "      <th>...</th>\n",
       "      <td>...</td>\n",
       "      <td>...</td>\n",
       "      <td>...</td>\n",
       "      <td>...</td>\n",
       "      <td>...</td>\n",
       "      <td>...</td>\n",
       "      <td>...</td>\n",
       "      <td>...</td>\n",
       "      <td>...</td>\n",
       "      <td>...</td>\n",
       "      <td>...</td>\n",
       "      <td>...</td>\n",
       "      <td>...</td>\n",
       "      <td>...</td>\n",
       "      <td>...</td>\n",
       "      <td>...</td>\n",
       "      <td>...</td>\n",
       "      <td>...</td>\n",
       "      <td>...</td>\n",
       "      <td>...</td>\n",
       "      <td>...</td>\n",
       "    </tr>\n",
       "    <tr>\n",
       "      <th>2017</th>\n",
       "      <td>0.537853</td>\n",
       "      <td>0.526140</td>\n",
       "      <td>0.557045</td>\n",
       "      <td>0.535381</td>\n",
       "      <td>0.538019</td>\n",
       "      <td>0.534607</td>\n",
       "      <td>0.539019</td>\n",
       "      <td>0.531281</td>\n",
       "      <td>0.537390</td>\n",
       "      <td>0.537799</td>\n",
       "      <td>...</td>\n",
       "      <td>0.335331</td>\n",
       "      <td>0.537869</td>\n",
       "      <td>0.537683</td>\n",
       "      <td>0.536847</td>\n",
       "      <td>0.537699</td>\n",
       "      <td>0.537100</td>\n",
       "      <td>0.527977</td>\n",
       "      <td>0.535155</td>\n",
       "      <td>0.542817</td>\n",
       "      <td>0.522964</td>\n",
       "    </tr>\n",
       "    <tr>\n",
       "      <th>2018</th>\n",
       "      <td>0.537890</td>\n",
       "      <td>0.526112</td>\n",
       "      <td>0.553058</td>\n",
       "      <td>0.535545</td>\n",
       "      <td>0.538092</td>\n",
       "      <td>0.535674</td>\n",
       "      <td>0.538960</td>\n",
       "      <td>0.531403</td>\n",
       "      <td>0.537390</td>\n",
       "      <td>0.537799</td>\n",
       "      <td>...</td>\n",
       "      <td>0.201883</td>\n",
       "      <td>0.537854</td>\n",
       "      <td>0.537686</td>\n",
       "      <td>0.537037</td>\n",
       "      <td>0.537699</td>\n",
       "      <td>0.537121</td>\n",
       "      <td>0.527970</td>\n",
       "      <td>0.544550</td>\n",
       "      <td>0.542260</td>\n",
       "      <td>0.522964</td>\n",
       "    </tr>\n",
       "    <tr>\n",
       "      <th>2019</th>\n",
       "      <td>0.537901</td>\n",
       "      <td>0.535798</td>\n",
       "      <td>0.552403</td>\n",
       "      <td>0.535598</td>\n",
       "      <td>0.538106</td>\n",
       "      <td>0.536693</td>\n",
       "      <td>0.538908</td>\n",
       "      <td>0.531520</td>\n",
       "      <td>0.537391</td>\n",
       "      <td>0.537799</td>\n",
       "      <td>...</td>\n",
       "      <td>0.296040</td>\n",
       "      <td>0.537862</td>\n",
       "      <td>0.537686</td>\n",
       "      <td>0.536802</td>\n",
       "      <td>0.537699</td>\n",
       "      <td>0.537188</td>\n",
       "      <td>0.527953</td>\n",
       "      <td>0.543426</td>\n",
       "      <td>0.542260</td>\n",
       "      <td>0.522964</td>\n",
       "    </tr>\n",
       "    <tr>\n",
       "      <th>2020</th>\n",
       "      <td>0.537799</td>\n",
       "      <td>0.579102</td>\n",
       "      <td>0.539670</td>\n",
       "      <td>0.535542</td>\n",
       "      <td>0.538164</td>\n",
       "      <td>0.537115</td>\n",
       "      <td>0.538380</td>\n",
       "      <td>0.534624</td>\n",
       "      <td>0.537394</td>\n",
       "      <td>0.537799</td>\n",
       "      <td>...</td>\n",
       "      <td>0.407781</td>\n",
       "      <td>0.537867</td>\n",
       "      <td>0.537799</td>\n",
       "      <td>0.537300</td>\n",
       "      <td>0.537750</td>\n",
       "      <td>0.537537</td>\n",
       "      <td>0.516482</td>\n",
       "      <td>0.545438</td>\n",
       "      <td>0.540031</td>\n",
       "      <td>0.530383</td>\n",
       "    </tr>\n",
       "    <tr>\n",
       "      <th>2021</th>\n",
       "      <td>0.537923</td>\n",
       "      <td>0.492324</td>\n",
       "      <td>0.545001</td>\n",
       "      <td>0.535172</td>\n",
       "      <td>0.538140</td>\n",
       "      <td>0.537115</td>\n",
       "      <td>0.538380</td>\n",
       "      <td>0.534624</td>\n",
       "      <td>0.537392</td>\n",
       "      <td>0.537799</td>\n",
       "      <td>...</td>\n",
       "      <td>0.407787</td>\n",
       "      <td>0.537831</td>\n",
       "      <td>0.537744</td>\n",
       "      <td>0.537554</td>\n",
       "      <td>0.537750</td>\n",
       "      <td>0.537581</td>\n",
       "      <td>0.512677</td>\n",
       "      <td>0.540506</td>\n",
       "      <td>0.540031</td>\n",
       "      <td>0.531608</td>\n",
       "    </tr>\n",
       "  </tbody>\n",
       "</table>\n",
       "<p>62 rows × 215 columns</p>\n",
       "</div>"
      ],
      "text/plain": [
       "iso3       ABW       AFG       AGO       ALB       AND       ARE       ARG  \\\n",
       "year                                                                         \n",
       "1960  0.537799  0.538444  0.526967  0.541647  0.537958  0.538769  0.542850   \n",
       "1961  0.537658  0.539312  0.525621  0.541618  0.537961  0.538810  0.545059   \n",
       "1962  0.537648  0.539536  0.524289  0.541584  0.537964  0.538816  0.545075   \n",
       "1963  0.537639  0.539453  0.522999  0.541515  0.537965  0.538799  0.545385   \n",
       "1964  0.537630  0.539552  0.519986  0.541417  0.537966  0.538770  0.545802   \n",
       "...        ...       ...       ...       ...       ...       ...       ...   \n",
       "2017  0.537853  0.526140  0.557045  0.535381  0.538019  0.534607  0.539019   \n",
       "2018  0.537890  0.526112  0.553058  0.535545  0.538092  0.535674  0.538960   \n",
       "2019  0.537901  0.535798  0.552403  0.535598  0.538106  0.536693  0.538908   \n",
       "2020  0.537799  0.579102  0.539670  0.535542  0.538164  0.537115  0.538380   \n",
       "2021  0.537923  0.492324  0.545001  0.535172  0.538140  0.537115  0.538380   \n",
       "\n",
       "iso3       ARM       ASM       ATG  ...       VEN       VGB       VIR  \\\n",
       "year                                ...                                 \n",
       "1960  0.540890  0.537735  0.537710  ...  0.539871  0.537777  0.538057   \n",
       "1961  0.541180  0.537776  0.537630  ...  0.539302  0.537764  0.538211   \n",
       "1962  0.541489  0.537775  0.537622  ...  0.538883  0.537763  0.538249   \n",
       "1963  0.541807  0.537775  0.537617  ...  0.538614  0.537764  0.538255   \n",
       "1964  0.542114  0.537775  0.537664  ...  0.538396  0.537769  0.538257   \n",
       "...        ...       ...       ...  ...       ...       ...       ...   \n",
       "2017  0.531281  0.537390  0.537799  ...  0.335331  0.537869  0.537683   \n",
       "2018  0.531403  0.537390  0.537799  ...  0.201883  0.537854  0.537686   \n",
       "2019  0.531520  0.537391  0.537799  ...  0.296040  0.537862  0.537686   \n",
       "2020  0.534624  0.537394  0.537799  ...  0.407781  0.537867  0.537799   \n",
       "2021  0.534624  0.537392  0.537799  ...  0.407787  0.537831  0.537744   \n",
       "\n",
       "iso3       VNM       VUT       WSM       YEM       ZAF       ZMB       ZWE  \n",
       "year                                                                        \n",
       "1960  0.537799  0.537799  0.537681  0.533554  0.542481  0.536835  0.535755  \n",
       "1961  0.537799  0.537799  0.537633  0.533468  0.551688  0.536720  0.535674  \n",
       "1962  0.537799  0.537799  0.537572  0.533381  0.554652  0.536622  0.535588  \n",
       "1963  0.537799  0.537799  0.537552  0.533289  0.555372  0.536554  0.535480  \n",
       "1964  0.535322  0.537799  0.537556  0.533198  0.556224  0.536508  0.535307  \n",
       "...        ...       ...       ...       ...       ...       ...       ...  \n",
       "2017  0.536847  0.537699  0.537100  0.527977  0.535155  0.542817  0.522964  \n",
       "2018  0.537037  0.537699  0.537121  0.527970  0.544550  0.542260  0.522964  \n",
       "2019  0.536802  0.537699  0.537188  0.527953  0.543426  0.542260  0.522964  \n",
       "2020  0.537300  0.537750  0.537537  0.516482  0.545438  0.540031  0.530383  \n",
       "2021  0.537554  0.537750  0.537581  0.512677  0.540506  0.540031  0.531608  \n",
       "\n",
       "[62 rows x 215 columns]"
      ]
     },
     "execution_count": 24,
     "metadata": {},
     "output_type": "execute_result"
    }
   ],
   "source": [
    "data = data.pivot(index='year', columns='iso3', values='net_migration')\n",
    "data"
   ]
  },
  {
   "cell_type": "markdown",
   "metadata": {},
   "source": [
    "Starting with just one country:"
   ]
  },
  {
   "cell_type": "code",
   "execution_count": 27,
   "metadata": {},
   "outputs": [],
   "source": [
    "test = data[\"USA\"]"
   ]
  },
  {
   "cell_type": "code",
   "execution_count": 44,
   "metadata": {},
   "outputs": [
    {
     "data": {
      "text/plain": [
       "0     0.682256\n",
       "1     0.671849\n",
       "2     0.673906\n",
       "3     0.683475\n",
       "4     0.661869\n",
       "        ...   \n",
       "57    0.878883\n",
       "58    0.835101\n",
       "59    0.824615\n",
       "60    0.705059\n",
       "61    0.676839\n",
       "Name: USA, Length: 62, dtype: float64"
      ]
     },
     "execution_count": 44,
     "metadata": {},
     "output_type": "execute_result"
    }
   ],
   "source": [
    "test.reset_index(drop=True)"
   ]
  },
  {
   "cell_type": "markdown",
   "metadata": {},
   "source": [
    "Building sequences. Model input will be a sequence of $v$ values, and the target is the next value $v+1$:"
   ]
  },
  {
   "cell_type": "code",
   "execution_count": 73,
   "metadata": {},
   "outputs": [],
   "source": [
    "test = test.reset_index(drop=True)\n",
    "seq = 3\n",
    "\n",
    "sequences = []\n",
    "targets = []\n",
    "\n",
    "for i in range(len(test) - seq):\n",
    "    sequence = test[i:i+seq]\n",
    "    target = test[i+seq]\n",
    "\n",
    "    sequences.append(sequence)\n",
    "    targets.append(target)\n",
    "\n",
    "sequences = torch.tensor(sequences, dtype=torch.float32)\n",
    "targets = torch.tensor(targets, dtype=torch.float32)"
   ]
  },
  {
   "cell_type": "markdown",
   "metadata": {},
   "source": [
    "This works; now splitting into train-val-test. We use the last two sequences for testing, the two before that for validation, and everything before for training."
   ]
  },
  {
   "cell_type": "code",
   "execution_count": 74,
   "metadata": {},
   "outputs": [],
   "source": [
    "y_test = targets[-2:]\n",
    "X_test = sequences[-2:]\n",
    "y_val = targets[-4:-2]\n",
    "X_val = sequences[-4:-2]\n",
    "y_train = targets[:-4]\n",
    "X_train = sequences[:-4]"
   ]
  },
  {
   "cell_type": "markdown",
   "metadata": {},
   "source": [
    "What we are feeding e.g. in training are 55 sequences of length 3:"
   ]
  },
  {
   "cell_type": "code",
   "execution_count": 96,
   "metadata": {},
   "outputs": [
    {
     "data": {
      "text/plain": [
       "torch.Size([55, 3])"
      ]
     },
     "execution_count": 96,
     "metadata": {},
     "output_type": "execute_result"
    }
   ],
   "source": [
    "X_train.shape"
   ]
  },
  {
   "cell_type": "markdown",
   "metadata": {},
   "source": [
    "Which we want to use to predict 55 \"next\" values:"
   ]
  },
  {
   "cell_type": "code",
   "execution_count": 97,
   "metadata": {},
   "outputs": [
    {
     "data": {
      "text/plain": [
       "torch.Size([55])"
      ]
     },
     "execution_count": 97,
     "metadata": {},
     "output_type": "execute_result"
    }
   ],
   "source": [
    "y_train.shape"
   ]
  },
  {
   "cell_type": "markdown",
   "metadata": {},
   "source": [
    "Custom dataset:"
   ]
  },
  {
   "cell_type": "code",
   "execution_count": 78,
   "metadata": {},
   "outputs": [],
   "source": [
    "class TimeSeriesDataset(Dataset):\n",
    "    def __init__(self, sequences, targets):\n",
    "        self.sequences = sequences\n",
    "        self.targets = targets\n",
    "    \n",
    "    def __len__(self):\n",
    "        return len(self.sequences)\n",
    "    \n",
    "    def __getitem__(self, idx):\n",
    "        return self.sequences[idx], self.targets[idx]"
   ]
  },
  {
   "cell_type": "code",
   "execution_count": 104,
   "metadata": {},
   "outputs": [],
   "source": [
    "train_loader = DataLoader(TimeSeriesDataset(X_train.unsqueeze(-1), y_train), batch_size=2, shuffle=True)\n",
    "val_loader = DataLoader(TimeSeriesDataset(X_val.unsqueeze(-1), y_val), batch_size=2, shuffle=False)\n",
    "test_loader = DataLoader(TimeSeriesDataset(X_test.unsqueeze(-1), y_test), batch_size=2, shuffle=False)"
   ]
  },
  {
   "cell_type": "markdown",
   "metadata": {},
   "source": [
    "Example model architecture:"
   ]
  },
  {
   "cell_type": "code",
   "execution_count": 105,
   "metadata": {},
   "outputs": [],
   "source": [
    "\n",
    "class LSTMModel(nn.Module):\n",
    "\n",
    "    def __init__(self, input_size, hidden_size, output_size, num_layers):\n",
    "        super(LSTMModel, self).__init__()\n",
    "        self.hidden_size = hidden_size\n",
    "        self.num_layers = num_layers\n",
    "        \n",
    "        # LSTM Layer\n",
    "        self.lstm = nn.LSTM(input_size, hidden_size, num_layers, batch_first=True)\n",
    "        \n",
    "        # Fully connected layer\n",
    "        self.fc = nn.Linear(hidden_size, output_size)\n",
    "\n",
    "    def forward(self, x):\n",
    "        # Initialize hidden state and cell state\n",
    "        h0 = torch.zeros(self.num_layers, x.size(0), self.hidden_size).to(x.device)\n",
    "        c0 = torch.zeros(self.num_layers, x.size(0), self.hidden_size).to(x.device)\n",
    "        \n",
    "        # Forward propagate LSTM\n",
    "        out, _ = self.lstm(x, (h0, c0))\n",
    "        \n",
    "        # Pass the last output through the fully connected layer\n",
    "        out = self.fc(out[:, -1, :])\n",
    "        return out"
   ]
  },
  {
   "cell_type": "markdown",
   "metadata": {},
   "source": [
    "Parameters:"
   ]
  },
  {
   "cell_type": "code",
   "execution_count": 106,
   "metadata": {},
   "outputs": [
    {
     "data": {
      "text/plain": [
       "LSTMModel(\n",
       "  (lstm): LSTM(1, 256, num_layers=2, batch_first=True)\n",
       "  (fc): Linear(in_features=256, out_features=1, bias=True)\n",
       ")"
      ]
     },
     "execution_count": 106,
     "metadata": {},
     "output_type": "execute_result"
    }
   ],
   "source": [
    "input_size = 1  # Since each time step in the sequence has one value\n",
    "hidden_size = 256\n",
    "num_layers = 2\n",
    "output_size = 1  # Predicting a single value\n",
    "\n",
    "model = LSTMModel(input_size=input_size, hidden_size=hidden_size, num_layers=num_layers, output_size=output_size)\n",
    "model.to(device)"
   ]
  },
  {
   "cell_type": "code",
   "execution_count": 108,
   "metadata": {},
   "outputs": [
    {
     "name": "stdout",
     "output_type": "stream",
     "text": [
      "Epoch 1/10, Loss: 0.0018881094874814153\n",
      "Epoch 2/10, Loss: 0.01613370142877102\n",
      "Epoch 3/10, Loss: 0.0016030692495405674\n",
      "Epoch 4/10, Loss: 0.00021074528922326863\n",
      "Epoch 5/10, Loss: 0.00284543726593256\n",
      "Epoch 6/10, Loss: 0.019848885014653206\n",
      "Epoch 7/10, Loss: 0.003975802566856146\n",
      "Epoch 8/10, Loss: 0.013214612379670143\n",
      "Epoch 9/10, Loss: 0.02314932458102703\n",
      "Epoch 10/10, Loss: 0.017985420301556587\n"
     ]
    }
   ],
   "source": [
    "# Instantiate the model\n",
    "model = LSTMModel(input_size, hidden_size, output_size, num_layers)\n",
    "model.to(device)\n",
    "\n",
    "# Loss and optimizer\n",
    "criterion = nn.MSELoss()\n",
    "optimizer = optim.Adam(model.parameters(), lr=0.001)\n",
    "\n",
    "# Training loop\n",
    "num_epochs = 10\n",
    "\n",
    "for epoch in range(num_epochs):\n",
    "    model.train()\n",
    "    for seq, target in train_loader:\n",
    "        seq, target = seq.to(device), target.to(device)\n",
    "        \n",
    "        # Forward pass\n",
    "        output = model(seq)\n",
    "        loss = criterion(output, target)\n",
    "        \n",
    "        # Backward pass and optimization\n",
    "        optimizer.zero_grad()\n",
    "        loss.backward()\n",
    "        optimizer.step()\n",
    "    \n",
    "    print(f'Epoch {epoch+1}/{num_epochs}, Loss: {loss.item()}')\n"
   ]
  }
 ],
 "metadata": {
  "kernelspec": {
   "display_name": "base",
   "language": "python",
   "name": "python3"
  },
  "language_info": {
   "codemirror_mode": {
    "name": "ipython",
    "version": 3
   },
   "file_extension": ".py",
   "mimetype": "text/x-python",
   "name": "python",
   "nbconvert_exporter": "python",
   "pygments_lexer": "ipython3",
   "version": "3.11.5"
  }
 },
 "nbformat": 4,
 "nbformat_minor": 2
}
