{
 "cells": [
  {
   "cell_type": "markdown",
   "metadata": {},
   "source": [
    "# LSTM Model\n"
   ]
  },
  {
   "cell_type": "code",
   "execution_count": 33,
   "metadata": {},
   "outputs": [
    {
     "name": "stdout",
     "output_type": "stream",
     "text": [
      "Using cpu\n"
     ]
    }
   ],
   "source": [
    "import torch\n",
    "import torch.nn as nn\n",
    "import torch.nn.functional as F\n",
    "import torch.optim as optim\n",
    "\n",
    "import pandas as pd\n",
    "import numpy as np\n",
    "import seaborn as sns\n",
    "import matplotlib.pyplot as plt\n",
    "\n",
    "from sklearn.metrics import mean_squared_error, mean_absolute_error, r2_score\n",
    "from sklearn.preprocessing import minmax_scale\n",
    "from sklearn.model_selection import train_test_split\n",
    "\n",
    "from torch.utils.data import Dataset, DataLoader, TensorDataset\n",
    "#from torch.optim.lr_scheduler import ReduceLROnPlateau\n",
    "\n",
    "torch.manual_seed(42)\n",
    "\n",
    "device = torch.device(\"cuda\") if torch.cuda.is_available() else torch.device(\"cpu\")\n",
    "print(f\"Using {device}\")"
   ]
  },
  {
   "cell_type": "markdown",
   "metadata": {},
   "source": [
    "### Prepare the Data"
   ]
  },
  {
   "cell_type": "markdown",
   "metadata": {},
   "source": [
    "We begin by loading the preprocessed dataset from a CSV file. The index_col=[0] parameter sets the first column as the index of the DataFrame."
   ]
  },
  {
   "cell_type": "code",
   "execution_count": 34,
   "metadata": {},
   "outputs": [],
   "source": [
    "data = pd.read_csv(\"../data/final/preprocessed_full.csv\", index_col=[0])"
   ]
  },
  {
   "cell_type": "markdown",
   "metadata": {},
   "source": [
    "To ensure consistency and normalize the range of the target variable, we apply MinMax scaling to the net_migration column. The original minimum and maximum values (omin and omax) are stored for potential later use."
   ]
  },
  {
   "cell_type": "code",
   "execution_count": 35,
   "metadata": {},
   "outputs": [],
   "source": [
    "omin, omax = -2, 2\n",
    "data[\"net_migration\"] = minmax_scale(data[\"net_migration\"])"
   ]
  },
  {
   "cell_type": "markdown",
   "metadata": {},
   "source": [
    "Next, we remove data from the years 2022 and 2023, focusing our analysis on data up to the year 2021."
   ]
  },
  {
   "cell_type": "code",
   "execution_count": 36,
   "metadata": {},
   "outputs": [],
   "source": [
    "data = data[data[\"year\"] < 2022]"
   ]
  },
  {
   "cell_type": "markdown",
   "metadata": {},
   "source": [
    "The data is sorted by the country code (iso3) and year to ensure that each country’s data is ordered chronologically. The index is then reset to ensure that it is sequential and clean."
   ]
  },
  {
   "cell_type": "code",
   "execution_count": 37,
   "metadata": {},
   "outputs": [],
   "source": [
    "data = data.sort_values([\"iso3\", \"year\"]).reset_index(drop=True)"
   ]
  },
  {
   "cell_type": "markdown",
   "metadata": {},
   "source": [
    "Here, we create a new column net_migration_tp1 that represents the next year's net migration value. This is done using the shift method. Rows where this value is not available (e.g., the last year in each country's data) are dropped."
   ]
  },
  {
   "cell_type": "code",
   "execution_count": 38,
   "metadata": {},
   "outputs": [],
   "source": [
    "data[\"net_migration_tp1\"] = data.groupby(by=\"iso3\").shift(-1)[\"net_migration\"]\n",
    "data = data.dropna(subset=\"net_migration_tp1\")"
   ]
  },
  {
   "cell_type": "markdown",
   "metadata": {},
   "source": [
    "The target variable for our model is defined as net_migration_tp1. We also define the feature set by selecting all numeric columns except iso3, year, and the target variable."
   ]
  },
  {
   "cell_type": "code",
   "execution_count": 39,
   "metadata": {},
   "outputs": [],
   "source": [
    "target = \"net_migration_tp1\"\n",
    "\n",
    "features = data.drop([\"iso3\", \"year\", target], axis=1).select_dtypes(include=[np.number]).columns.tolist()"
   ]
  },
  {
   "cell_type": "markdown",
   "metadata": {},
   "source": [
    "The create_sequences function generates sequences of data for input into the model. For each country (iso3), it creates sequences of a specified length (seq_length). Each sequence is paired with the corresponding target value (net_migration_tp1)."
   ]
  },
  {
   "cell_type": "code",
   "execution_count": 40,
   "metadata": {},
   "outputs": [],
   "source": [
    "def create_sequences(df: pd.DataFrame, seq_length: int) -> list:\n",
    "    sequences = []\n",
    "    for _, group in df.groupby(\"iso3\"):\n",
    "        for i in range(len(group) - seq_length):\n",
    "            seq = group.iloc[i:i+seq_length][features].values\n",
    "            target = group.iloc[i+seq_length][\"net_migration_tp1\"]\n",
    "            sequences.append((seq.astype(np.float32), float(target)))\n",
    "    return sequences"
   ]
  },
  {
   "cell_type": "markdown",
   "metadata": {},
   "source": [
    "A custom dataset class, MigrationDataset, is created to handle the sequences. It inherits from PyTorch's Dataset class, allowing it to be easily used with DataLoaders. The __getitem__ method ensures that each sequence and target pair is returned as a PyTorch tensor."
   ]
  },
  {
   "cell_type": "code",
   "execution_count": 41,
   "metadata": {},
   "outputs": [],
   "source": [
    "class MigrationDataset(Dataset):\n",
    "    def __init__(self, sequences):\n",
    "        self.sequences = sequences\n",
    "\n",
    "    def __len__(self):\n",
    "        return len(self.sequences)\n",
    "\n",
    "    def __getitem__(self, idx):\n",
    "        x, y = self.sequences[idx]\n",
    "        return torch.tensor(x, dtype=torch.float32), torch.tensor(y, dtype=torch.float32)"
   ]
  },
  {
   "cell_type": "markdown",
   "metadata": {},
   "source": [
    "The data is split into training, validation, and test sets based on a predefined 'set' column. This ensures that each set is used appropriately for model training, validation, and testing."
   ]
  },
  {
   "cell_type": "code",
   "execution_count": 42,
   "metadata": {},
   "outputs": [],
   "source": [
    "data_train = data[data['set'] == 'train']\n",
    "data_val = data[data['set'] == 'val']\n",
    "data_test = data[data['set'] == 'test']"
   ]
  },
  {
   "cell_type": "markdown",
   "metadata": {},
   "source": [
    "The sequence length is set to 1. This means each input sequence will consist of a single time step's features. The create_sequences function is applied to the training, validation, and test sets to generate sequences for each set."
   ]
  },
  {
   "cell_type": "code",
   "execution_count": 43,
   "metadata": {},
   "outputs": [],
   "source": [
    "seq_length = 1\n",
    "train_seqs = create_sequences(data_train, seq_length)\n",
    "val_seqs = create_sequences(data_val, seq_length)\n",
    "test_seqs = create_sequences(data_test, seq_length)"
   ]
  },
  {
   "cell_type": "markdown",
   "metadata": {},
   "source": [
    "Using the MigrationDataset class, we create dataset objects for the training, validation, and test sets."
   ]
  },
  {
   "cell_type": "code",
   "execution_count": 44,
   "metadata": {},
   "outputs": [],
   "source": [
    "train_set = MigrationDataset(train_seqs)\n",
    "val_set = MigrationDataset(val_seqs)\n",
    "test_set = MigrationDataset(test_seqs)"
   ]
  },
  {
   "cell_type": "markdown",
   "metadata": {},
   "source": [
    "Finally, DataLoaders are created for each dataset. The batch_size is set to 32, and the training data is shuffled to ensure that the model does not learn the order of the data."
   ]
  },
  {
   "cell_type": "code",
   "execution_count": 45,
   "metadata": {},
   "outputs": [],
   "source": [
    "train_loader = DataLoader(train_set, batch_size=32, shuffle=True)\n",
    "val_loader = DataLoader(val_set, batch_size=32, shuffle=False)\n",
    "test_loader = DataLoader(test_set, batch_size=32, shuffle=False)"
   ]
  },
  {
   "cell_type": "markdown",
   "metadata": {},
   "source": [
    "### Defining and Training the Model"
   ]
  },
  {
   "cell_type": "markdown",
   "metadata": {},
   "source": [
    "This class defines the LSTM-based neural network model. It includes an LSTM layer with num_layers and a specified hidden_size, followed by a fully connected layer (fc) that maps the LSTM outputs to the desired output size. A dropout layer is also included to prevent overfitting."
   ]
  },
  {
   "cell_type": "code",
   "execution_count": 46,
   "metadata": {},
   "outputs": [],
   "source": [
    "class LSTMModel(nn.Module):\n",
    "    def __init__(self, input_size, hidden_size, output_size, num_layers):\n",
    "        super(LSTMModel, self).__init__()\n",
    "        self.lstm = nn.LSTM(input_size, hidden_size, num_layers, batch_first=True)\n",
    "        self.fc = nn.Linear(hidden_size, hidden_size)\n",
    "        self.dropout = nn.Dropout(0.6)\n",
    "        self.fc2 = nn.Linear(hidden_size, hidden_size)\n",
    "        self.fc2 = nn.Linear(hidden_size, hidden_size)\n",
    "        self.fc = nn.Linear(hidden_size, output_size)\n",
    "\n",
    "    \n",
    "    def forward(self, x):\n",
    "        h0 = torch.zeros(self.lstm.num_layers, x.size(0), self.lstm.hidden_size).to(x.device)\n",
    "        c0 = torch.zeros(self.lstm.num_layers, x.size(0), self.lstm.hidden_size).to(x.device)\n",
    "        out, _ = self.lstm(x, (h0, c0))\n",
    "        out = self.fc(out[:, -1, :])\n",
    "        return out"
   ]
  },
  {
   "cell_type": "markdown",
   "metadata": {},
   "source": [
    "Here, we initialize the model with specific hyperparameters, such as the input_size, hidden_size, num_layers, and output_size."
   ]
  },
  {
   "cell_type": "code",
   "execution_count": 47,
   "metadata": {},
   "outputs": [],
   "source": [
    "input_size = len(train_seqs[0][0][0])\n",
    "hidden_size = 128\n",
    "num_layers = 2\n",
    "output_size = 1\n",
    "\n",
    "model = LSTMModel(input_size=input_size, hidden_size=hidden_size, output_size=output_size, num_layers=num_layers)"
   ]
  },
  {
   "cell_type": "markdown",
   "metadata": {},
   "source": [
    "We use the Huber loss function, which is robust to outliers, and the Adam optimizer with a learning rate of 0.001."
   ]
  },
  {
   "cell_type": "code",
   "execution_count": 48,
   "metadata": {},
   "outputs": [],
   "source": [
    "criterion = nn.HuberLoss()\n",
    "optimizer = optim.Adam(model.parameters(), lr=0.001)"
   ]
  },
  {
   "cell_type": "markdown",
   "metadata": {},
   "source": [
    "These functions handle model checkpointing. checkpoint saves the model's state, and restore_best_weights reloads the best-performing weights if early stopping is triggered."
   ]
  },
  {
   "cell_type": "code",
   "execution_count": 49,
   "metadata": {},
   "outputs": [],
   "source": [
    "def checkpoint(model) -> None:\n",
    "    torch.save(model.state_dict(), \"checkpoint.pth\")\n",
    "\n",
    "def restore_best_weights(model) -> None:\n",
    "    model.load_state_dict(torch.load(\"checkpoint.pth\"))"
   ]
  },
  {
   "cell_type": "markdown",
   "metadata": {},
   "source": [
    "The EarlyStopping class monitors the validation loss during training. If the loss does not improve by at least min_delta for patience number of epochs, training stops early to prevent overfitting."
   ]
  },
  {
   "cell_type": "code",
   "execution_count": 50,
   "metadata": {},
   "outputs": [],
   "source": [
    "class EarlyStopping:\n",
    "    \n",
    "    def __init__(self, patience=10, min_delta=0):\n",
    "        self.patience = patience\n",
    "        self.min_delta = min_delta\n",
    "        self.counter = 0\n",
    "        self.best_loss = float(\"Inf\")\n",
    "        self.early_stop = False\n",
    "\n",
    "    def __call__(self, val_loss):\n",
    "        if val_loss < self.best_loss - self.min_delta:\n",
    "            self.best_loss = val_loss\n",
    "            self.counter = 0\n",
    "        else:\n",
    "            self.counter += 1\n",
    "            if self.counter >= self.patience:\n",
    "                self.early_stop = True\n",
    "\n",
    "stopper = EarlyStopping()"
   ]
  },
  {
   "cell_type": "markdown",
   "metadata": {},
   "source": [
    "This function evaluates the model on the validation dataset and calculates the total validation loss."
   ]
  },
  {
   "cell_type": "code",
   "execution_count": 51,
   "metadata": {},
   "outputs": [],
   "source": [
    "def validate(model: LSTMModel, val_loader: DataLoader, criterion: nn.HuberLoss) -> float:\n",
    "    model.eval()\n",
    "    with torch.no_grad():\n",
    "        total_loss = 0\n",
    "        for features, targets in val_loader:\n",
    "            pred = model(features)\n",
    "            pred = pred.view(-1, 1)       \n",
    "            targets = targets.view(-1, 1)  \n",
    "            loss = criterion(pred, targets)\n",
    "            total_loss += loss.item()\n",
    "    \n",
    "    return total_loss"
   ]
  },
  {
   "cell_type": "markdown",
   "metadata": {},
   "source": []
  },
  {
   "cell_type": "code",
   "execution_count": 52,
   "metadata": {},
   "outputs": [],
   "source": [
    "def train(model: LSTMModel, train_loader: DataLoader, val_loader: DataLoader, epochs: int, criterion: nn.HuberLoss) -> list:\n",
    "\n",
    "    losses = []\n",
    "\n",
    "    for epoch in range(epochs):\n",
    "\n",
    "        # Train step\n",
    "\n",
    "        model.train()\n",
    "\n",
    "        epoch_train_loss = 0\n",
    "\n",
    "        for features, targets in train_loader:\n",
    "            pred = model(features)\n",
    "            pred = pred.view(-1, 1)       \n",
    "            targets = targets.view(-1, 1) \n",
    "            loss = criterion(pred, targets)\n",
    "            \n",
    "            optimizer.zero_grad()\n",
    "            loss.backward()\n",
    "            optimizer.step()\n",
    "            epoch_train_loss += loss.item()\n",
    "            \n",
    "        # Validation step\n",
    "\n",
    "        epoch_val_loss = validate(model, val_loader, criterion)\n",
    "\n",
    "        stopper(epoch_val_loss)\n",
    "\n",
    "        print(f\"Epoch {epoch+1} done: Training loss: {epoch_train_loss:.4f}, Validation loss: {epoch_val_loss:.4f}, Patience counter: {stopper.counter}\")\n",
    "        losses.append({\"epoch\": epoch+1, \"training\": epoch_train_loss, \"validation\": epoch_val_loss})\n",
    "        \n",
    "        if stopper.counter == 0:\n",
    "            checkpoint(model)\n",
    "        \n",
    "        if stopper.early_stop:\n",
    "            print(f\"Patience exceeded, stopping training & restoring best weights...\")\n",
    "            restore_best_weights(model)\n",
    "            break\n",
    "        \n",
    "\n",
    "\n",
    "    return losses"
   ]
  },
  {
   "cell_type": "markdown",
   "metadata": {},
   "source": [
    "The train function is called to train the LSTM model over 100 epochs, using the specified training and validation data loaders. The loss values for each epoch are returned and converted into a Pandas DataFrame for easy analysis."
   ]
  },
  {
   "cell_type": "code",
   "execution_count": 53,
   "metadata": {},
   "outputs": [
    {
     "name": "stdout",
     "output_type": "stream",
     "text": [
      "Epoch 1 done: Training loss: 2.9182, Validation loss: 0.0016, Patience counter: 0\n",
      "Epoch 2 done: Training loss: 0.0300, Validation loss: 0.0016, Patience counter: 1\n",
      "Epoch 3 done: Training loss: 0.0281, Validation loss: 0.0013, Patience counter: 0\n",
      "Epoch 4 done: Training loss: 0.0259, Validation loss: 0.0016, Patience counter: 1\n",
      "Epoch 5 done: Training loss: 0.0255, Validation loss: 0.0013, Patience counter: 0\n",
      "Epoch 6 done: Training loss: 0.0249, Validation loss: 0.0014, Patience counter: 1\n",
      "Epoch 7 done: Training loss: 0.0242, Validation loss: 0.0012, Patience counter: 0\n",
      "Epoch 8 done: Training loss: 0.0238, Validation loss: 0.0013, Patience counter: 1\n",
      "Epoch 9 done: Training loss: 0.0239, Validation loss: 0.0021, Patience counter: 2\n",
      "Epoch 10 done: Training loss: 0.0233, Validation loss: 0.0012, Patience counter: 0\n",
      "Epoch 11 done: Training loss: 0.0221, Validation loss: 0.0021, Patience counter: 1\n",
      "Epoch 12 done: Training loss: 0.0216, Validation loss: 0.0011, Patience counter: 0\n",
      "Epoch 13 done: Training loss: 0.0200, Validation loss: 0.0014, Patience counter: 1\n",
      "Epoch 14 done: Training loss: 0.0197, Validation loss: 0.0013, Patience counter: 2\n",
      "Epoch 15 done: Training loss: 0.0200, Validation loss: 0.0013, Patience counter: 3\n",
      "Epoch 16 done: Training loss: 0.0189, Validation loss: 0.0015, Patience counter: 4\n",
      "Epoch 17 done: Training loss: 0.0180, Validation loss: 0.0014, Patience counter: 5\n",
      "Epoch 18 done: Training loss: 0.0177, Validation loss: 0.0017, Patience counter: 6\n",
      "Epoch 19 done: Training loss: 0.0187, Validation loss: 0.0027, Patience counter: 7\n",
      "Epoch 20 done: Training loss: 0.0162, Validation loss: 0.0015, Patience counter: 8\n",
      "Epoch 21 done: Training loss: 0.0163, Validation loss: 0.0015, Patience counter: 9\n",
      "Epoch 22 done: Training loss: 0.0174, Validation loss: 0.0016, Patience counter: 10\n",
      "Patience exceeded, stopping training & restoring best weights...\n"
     ]
    }
   ],
   "source": [
    "losses = train(model=model, train_loader=train_loader, val_loader=val_loader, epochs=100, criterion=criterion)"
   ]
  },
  {
   "cell_type": "markdown",
   "metadata": {},
   "source": [
    "### Evaluation"
   ]
  },
  {
   "cell_type": "markdown",
   "metadata": {},
   "source": [
    "A line plot is created using Seaborn to visualize the training and validation losses over epochs."
   ]
  },
  {
   "cell_type": "code",
   "execution_count": 54,
   "metadata": {},
   "outputs": [
    {
     "data": {
      "text/plain": [
       "<Axes: xlabel='epoch', ylabel='value'>"
      ]
     },
     "execution_count": 54,
     "metadata": {},
     "output_type": "execute_result"
    },
    {
     "data": {
      "image/png": "[encoded data removed]",
      "text/plain": [
       "<Figure size 640x480 with 1 Axes>"
      ]
     },
     "metadata": {},
     "output_type": "display_data"
    }
   ],
   "source": [
    "losses = pd.DataFrame(losses)\n",
    "\n",
    "sns.lineplot(\n",
    "    data=losses.melt(id_vars=\"epoch\", var_name=\"loss\"),\n",
    "    x=\"epoch\",\n",
    "    y=\"value\",\n",
    "    hue=\"loss\"\n",
    ")"
   ]
  },
  {
   "cell_type": "markdown",
   "metadata": {},
   "source": [
    "This eval function evaluates the trained model on the test dataset, calculating metrics like Mean Squared Error (MSE), Root Mean Squared Error (RMSE), and Mean Absolute Error (MAE). The metrics are returned as a dictionary for easy access."
   ]
  },
  {
   "cell_type": "code",
   "execution_count": 55,
   "metadata": {},
   "outputs": [],
   "source": [
    "def eval(model: LSTMModel, test_loader: DataLoader):\n",
    "    model.eval()\n",
    "    \n",
    "    mse = []\n",
    "    mae = []\n",
    "    \n",
    "    with torch.no_grad():\n",
    "        for features, targets in test_loader:\n",
    "            outputs = model(features)\n",
    "            targets = targets.unsqueeze(1)\n",
    "            \n",
    "            mse_i = F.mse_loss(outputs, targets, reduction='mean').item()\n",
    "            mse.append(mse_i)\n",
    "\n",
    "            mae_i = F.l1_loss(outputs, targets, reduction='mean').item()\n",
    "            mae.append(mae_i)\n",
    "    \n",
    "    metrics = {\n",
    "        \"MSE\": np.mean(mse),\n",
    "        \"RMSE\": np.sqrt(np.mean(mse)),\n",
    "        \"MAE\": np.mean(mae)\n",
    "    }\n",
    "    \n",
    "    return metrics"
   ]
  },
  {
   "cell_type": "markdown",
   "metadata": {},
   "source": [
    "After evaluating the model, the metrics are printed to understand the model's performance on the test set."
   ]
  },
  {
   "cell_type": "code",
   "execution_count": 56,
   "metadata": {},
   "outputs": [
    {
     "data": {
      "text/plain": [
       "{'MSE': 0.00010090353368598568,\n",
       " 'RMSE': 0.01004507509608493,\n",
       " 'MAE': 0.005092993445162263}"
      ]
     },
     "execution_count": 56,
     "metadata": {},
     "output_type": "execute_result"
    }
   ],
   "source": [
    "metrics = eval(model, test_loader)\n",
    "metrics"
   ]
  },
  {
   "cell_type": "markdown",
   "metadata": {},
   "source": [
    "The collect_predictions function gathers predictions and actual values from the test set. These values are then rescaled back to the original units using the rescale function."
   ]
  },
  {
   "cell_type": "code",
   "execution_count": 57,
   "metadata": {},
   "outputs": [],
   "source": [
    "def collect_predictions(model: LSTMModel, data_loader: DataLoader) -> tuple:\n",
    "    model.eval()\n",
    "    predictions = []\n",
    "    actuals = []\n",
    "    \n",
    "    with torch.no_grad():\n",
    "        for features, targets in data_loader:\n",
    "            outputs = model(features)\n",
    "            predictions.extend(outputs.cpu().numpy().flatten())\n",
    "            actuals.extend(targets.cpu().numpy().flatten())\n",
    "    \n",
    "    return predictions, actuals\n",
    "\n",
    "def rescale(scaled: list, omin: float, omax: float) -> np.array:\n",
    "    return [x * (omax - omin) + omin for x in scaled]\n",
    "\n",
    "predictions, actuals = collect_predictions(model, test_loader)\n",
    "predictions, actuals = rescale(predictions, omin=omin, omax=omax), rescale(actuals, omin=omin, omax=omax)"
   ]
  },
  {
   "cell_type": "markdown",
   "metadata": {},
   "source": [
    "A scatter plot is created to compare the actual versus predicted values on the test set. The diagonal red dashed line represents perfect predictions, allowing us to visualize the prediction accuracy."
   ]
  },
  {
   "cell_type": "code",
   "execution_count": 58,
   "metadata": {},
   "outputs": [
    {
     "data": {
      "image/png": "[encoded data removed]",
      "text/plain": [
       "<Figure size 1000x600 with 1 Axes>"
      ]
     },
     "metadata": {},
     "output_type": "display_data"
    }
   ],
   "source": [
    "plt.figure(figsize=(10, 6))\n",
    "sns.scatterplot(x=actuals, y=predictions, color=\"black\", s=10)\n",
    "\n",
    "min_val = min(min(actuals), min(predictions))\n",
    "max_val = max(max(actuals), max(predictions))\n",
    "plt.plot([min_val, max_val], [min_val, max_val], 'r--', linewidth=1)\n",
    "\n",
    "plt.xlabel('Actual Values')\n",
    "plt.ylabel('Predicted Values')\n",
    "plt.title('Actual vs. Predicted Net Migration\\n(Test Set)')\n",
    "plt.show()"
   ]
  },
  {
   "cell_type": "markdown",
   "metadata": {},
   "source": [
    "Predictions and actual values are collected and rescaled for the training, validation, and test sets. These are combined into a single DataFrame, facilitating comparison across different data splits."
   ]
  },
  {
   "cell_type": "code",
   "execution_count": 59,
   "metadata": {},
   "outputs": [],
   "source": [
    "train_pred, train_act = collect_predictions(model, train_loader)\n",
    "val_pred, val_act = collect_predictions(model, val_loader)\n",
    "\n",
    "train_pred, train_act = rescale(train_pred, omin, omax), rescale(train_act, omin, omax)\n",
    "val_pred, val_act = rescale(val_pred, omin, omax), rescale(val_act, omin, omax)\n",
    "\n",
    "all_predictions = pd.concat([\n",
    "    pd.DataFrame({\"predicted\": train_pred, \"actual\": train_act, \"set\": \"training\"}),\n",
    "    pd.DataFrame({\"predicted\": val_pred, \"actual\": val_act, \"set\": \"validation\"}),\n",
    "    pd.DataFrame({\"predicted\": predictions, \"actual\": actuals, \"set\": \"testing\"})\n",
    "])\n",
    "\n",
    "all_predictions['set'] = pd.Categorical(all_predictions['set'], categories=['testing', 'training', 'validation'])\n",
    "all_predictions = all_predictions.sort_values('set').reset_index(drop=True)"
   ]
  },
  {
   "cell_type": "markdown",
   "metadata": {},
   "source": [
    "A scatter plot is generated to compare the actual versus predicted values across training, validation, and test sets. Different colors are used to distinguish between the data splits."
   ]
  },
  {
   "cell_type": "code",
   "execution_count": 60,
   "metadata": {},
   "outputs": [
    {
     "data": {
      "image/png": "[encoded data removed]",
      "text/plain": [
       "<Figure size 1000x600 with 1 Axes>"
      ]
     },
     "metadata": {},
     "output_type": "display_data"
    }
   ],
   "source": [
    "plt.figure(figsize=(10, 6))\n",
    "sns.scatterplot(\n",
    "    data=all_predictions, \n",
    "    x=\"actual\",\n",
    "    y=\"predicted\",\n",
    "    hue=\"set\",\n",
    "    palette={\"testing\": \"red\", \"training\": \"blue\", \"validation\": \"green\"},\n",
    "    s=20, \n",
    "    alpha=0.6\n",
    ")\n",
    "# Main diagonal:\n",
    "min_val = min(min(all_predictions[\"actual\"]), min(all_predictions[\"predicted\"]))\n",
    "max_val = max(max(all_predictions[\"actual\"]), max(all_predictions[\"predicted\"]))\n",
    "plt.plot([min_val, max_val], [min_val, max_val], 'k--', linewidth=1)\n",
    "\n",
    "plt.xlabel('Actual Values')\n",
    "plt.ylabel('Predicted Values')\n",
    "plt.title('Actual vs. Predicted Net Migration')\n",
    "plt.show()"
   ]
  },
  {
   "cell_type": "markdown",
   "metadata": {},
   "source": [
    "Residuals (prediction errors) are plotted to assess the model's performance. This plot highlights whether there are any systematic errors or bias in the predictions."
   ]
  },
  {
   "cell_type": "code",
   "execution_count": 61,
   "metadata": {},
   "outputs": [
    {
     "data": {
      "image/png": "[encoded data removed]",
      "text/plain": [
       "<Figure size 640x480 with 1 Axes>"
      ]
     },
     "metadata": {},
     "output_type": "display_data"
    }
   ],
   "source": [
    "all_predictions[\"error\"] = all_predictions[\"predicted\"] - all_predictions[\"actual\"]\n",
    "ax = sns.scatterplot(\n",
    "    data=all_predictions,\n",
    "    x=\"predicted\",\n",
    "    y=\"error\",\n",
    "    hue=\"set\",\n",
    "    palette={\"testing\": \"red\", \"training\": \"blue\", \"validation\": \"green\"},\n",
    "    s=20, \n",
    "    alpha=0.5\n",
    ")\n",
    "sns.move_legend(ax, \"upper left\", bbox_to_anchor=(1, 1))\n",
    "plt.axhline(y=0, color=\"black\")\n",
    "plt.xlabel('Predicted Values')\n",
    "plt.ylabel('Residual')\n",
    "plt.title('Residuals')\n",
    "plt.show()"
   ]
  },
  {
   "cell_type": "markdown",
   "metadata": {},
   "source": [
    "This code evaluates the model's performance for each country by calculating the Mean Squared Error (MSE) on the combined validation and test datasets. The results are displayed, highlighting the countries with the highest and lowest MSE values."
   ]
  },
  {
   "cell_type": "code",
   "execution_count": 62,
   "metadata": {},
   "outputs": [
    {
     "name": "stdout",
     "output_type": "stream",
     "text": [
      "\n",
      "Top 10 countries with highest MSE on combined validation and test datasets:\n",
      "    country  mse_combined\n",
      "185     SYR      0.146457\n",
      "205     VEN      0.089868\n",
      "166     SAU      0.065204\n",
      "202     USA      0.026978\n",
      "145     NPL      0.020974\n",
      "40      COL      0.019265\n",
      "149     PAK      0.015238\n",
      "196     TUR      0.011152\n",
      "88      IND      0.010009\n",
      "151     PER      0.007738\n",
      "\n",
      "Bottom 10 countries with lowest MSE on combined validation and test datasets:\n",
      "    country  mse_combined\n",
      "115     LUX  3.539868e-06\n",
      "130     MNE  3.475567e-06\n",
      "47      CYP  3.306720e-06\n",
      "170     SLB  2.490255e-06\n",
      "14      BEL  2.059438e-06\n",
      "28      BRN  1.837861e-06\n",
      "79      GUM  5.542445e-07\n",
      "110     LCA  3.196543e-07\n",
      "76      GRD  2.690611e-07\n",
      "18      BGR  2.495732e-07\n"
     ]
    }
   ],
   "source": [
    "combined_data = pd.concat([data_val, data_test])\n",
    "\n",
    "countries = combined_data[\"iso3\"].unique()\n",
    "\n",
    "mse_results = {\"country\": [], \"mse_combined\": []}\n",
    "\n",
    "\n",
    "# Function to collect predictions\n",
    "def collect_predictions(model: LSTMModel, data_loader: DataLoader) -> tuple:\n",
    "    model.eval()\n",
    "    predictions = []\n",
    "    actuals = []\n",
    "    \n",
    "    with torch.no_grad():\n",
    "        for features, targets in data_loader:\n",
    "            outputs = model(features)\n",
    "            predictions.extend(outputs.cpu().numpy().flatten())\n",
    "            actuals.extend(targets.cpu().numpy().flatten())\n",
    "    \n",
    "    return predictions, actuals\n",
    "\n",
    "# Function to rescale data back to original units\n",
    "def rescale(scaled: list, omin: float, omax: float) -> np.array:\n",
    "    return [x * (omax - omin) + omin for x in scaled]\n",
    "\n",
    "# Function to calculate MSE for a given country on the combined validation and test datasets\n",
    "def calculate_mse_for_country_combined(country, data, seq_length, model):\n",
    "    country_data = data[data[\"iso3\"] == country]\n",
    "    country_seqs = create_sequences(country_data, seq_length)\n",
    "    country_set = MigrationDataset(country_seqs)\n",
    "    country_loader = DataLoader(country_set, batch_size=32, shuffle=False)\n",
    "\n",
    "    pred, act = collect_predictions(model, country_loader)\n",
    "    pred = rescale(pred, omin, omax)\n",
    "    act = rescale(act, omin, omax)\n",
    "    \n",
    "    mse = mean_squared_error(act, pred)\n",
    "    return mse\n",
    "\n",
    "# Loop through each country and calculate MSE on the combined validation and test datasets\n",
    "for country in countries:\n",
    "    # Combined set MSE\n",
    "    mse_combined = calculate_mse_for_country_combined(country, combined_data, seq_length=1, model=model)\n",
    "    \n",
    "    # Store the results\n",
    "    mse_results[\"country\"].append(country)\n",
    "    mse_results[\"mse_combined\"].append(mse_combined)\n",
    "\n",
    "# Convert the results to a DataFrame for easy analysis\n",
    "mse_df = pd.DataFrame(mse_results)\n",
    "\n",
    "# Sort the DataFrame by MSE\n",
    "mse_df_sorted = mse_df.sort_values(by=\"mse_combined\", ascending=False)\n",
    "\n",
    "# Display the top 10 countries with the highest MSE\n",
    "print(\"\\nTop 10 countries with highest MSE on combined validation and test datasets:\")\n",
    "print(mse_df_sorted.head(10))\n",
    "\n",
    "# Display the bottom 10 countries with the lowest MSE\n",
    "print(\"\\nBottom 10 countries with lowest MSE on combined validation and test datasets:\")\n",
    "print(mse_df_sorted.tail(10))"
   ]
  },
  {
   "cell_type": "code",
   "execution_count": 71,
   "metadata": {},
   "outputs": [
    {
     "data": {
      "application/vnd.plotly.v1+json": {
       "config": {
        "plotlyServerURL": "https://plot.ly"
       },
       "data": [
        {
         "coloraxis": "coloraxis",
         "geo": "geo",
         "hovertemplate": "<b>%{hovertext}</b><br><br>country=%{location}<br>mse_combined=%{z}<extra></extra>",
         "hovertext": [
          "ABW",
          "AFG",
          "AGO",
          "ALB",
          "AND",
          "ARE",
          "ARG",
          "ARM",
          "ASM",
          "ATG",
          "AUS",
          "AUT",
          "AZE",
          "BDI",
          "BEL",
          "BEN",
          "BFA",
          "BGD",
          "BGR",
          "BHR",
          "BHS",
          "BIH",
          "BLR",
          "BLZ",
          "BMU",
          "BOL",
          "BRA",
          "BRB",
          "BRN",
          "BTN",
          "BWA",
          "CAF",
          "CAN",
          "CHE",
          "CHL",
          "CHN",
          "CIV",
          "CMR",
          "COD",
          "COG",
          "COL",
          "COM",
          "CPV",
          "CRI",
          "CUB",
          "CUW",
          "CYM",
          "CYP",
          "CZE",
          "DEU",
          "DJI",
          "DMA",
          "DNK",
          "DOM",
          "DZA",
          "ECU",
          "EGY",
          "ERI",
          "ESP",
          "EST",
          "ETH",
          "FIN",
          "FJI",
          "FRA",
          "FRO",
          "FSM",
          "GAB",
          "GBR",
          "GEO",
          "GHA",
          "GIB",
          "GIN",
          "GMB",
          "GNB",
          "GNQ",
          "GRC",
          "GRD",
          "GRL",
          "GTM",
          "GUM",
          "GUY",
          "HKG",
          "HND",
          "HRV",
          "HTI",
          "HUN",
          "IDN",
          "IMN",
          "IND",
          "IRL",
          "IRN",
          "IRQ",
          "ISL",
          "ISR",
          "ITA",
          "JAM",
          "JOR",
          "JPN",
          "KAZ",
          "KEN",
          "KGZ",
          "KHM",
          "KIR",
          "KNA",
          "KOR",
          "KWT",
          "LAO",
          "LBN",
          "LBR",
          "LBY",
          "LCA",
          "LIE",
          "LKA",
          "LSO",
          "LTU",
          "LUX",
          "LVA",
          "MAC",
          "MAF",
          "MAR",
          "MCO",
          "MDA",
          "MDG",
          "MDV",
          "MEX",
          "MHL",
          "MKD",
          "MLI",
          "MLT",
          "MMR",
          "MNE",
          "MNG",
          "MNP",
          "MOZ",
          "MRT",
          "MUS",
          "MWI",
          "MYS",
          "NAM",
          "NCL",
          "NER",
          "NGA",
          "NIC",
          "NLD",
          "NOR",
          "NPL",
          "NRU",
          "NZL",
          "OMN",
          "PAK",
          "PAN",
          "PER",
          "PHL",
          "PLW",
          "PNG",
          "POL",
          "PRI",
          "PRK",
          "PRT",
          "PRY",
          "PSE",
          "PYF",
          "QAT",
          "ROU",
          "RUS",
          "RWA",
          "SAU",
          "SDN",
          "SEN",
          "SGP",
          "SLB",
          "SLE",
          "SLV",
          "SMR",
          "SOM",
          "SRB",
          "SSD",
          "STP",
          "SUR",
          "SVK",
          "SVN",
          "SWE",
          "SWZ",
          "SXM",
          "SYC",
          "SYR",
          "TCA",
          "TCD",
          "TGO",
          "THA",
          "TJK",
          "TKM",
          "TLS",
          "TON",
          "TTO",
          "TUN",
          "TUR",
          "TUV",
          "TZA",
          "UGA",
          "UKR",
          "URY",
          "USA",
          "UZB",
          "VCT",
          "VEN",
          "VGB",
          "VIR",
          "VNM",
          "VUT",
          "WSM",
          "YEM",
          "ZAF",
          "ZMB",
          "ZWE"
         ],
         "locationmode": "ISO-3",
         "locations": [
          "ABW",
          "AFG",
          "AGO",
          "ALB",
          "AND",
          "ARE",
          "ARG",
          "ARM",
          "ASM",
          "ATG",
          "AUS",
          "AUT",
          "AZE",
          "BDI",
          "BEL",
          "BEN",
          "BFA",
          "BGD",
          "BGR",
          "BHR",
          "BHS",
          "BIH",
          "BLR",
          "BLZ",
          "BMU",
          "BOL",
          "BRA",
          "BRB",
          "BRN",
          "BTN",
          "BWA",
          "CAF",
          "CAN",
          "CHE",
          "CHL",
          "CHN",
          "CIV",
          "CMR",
          "COD",
          "COG",
          "COL",
          "COM",
          "CPV",
          "CRI",
          "CUB",
          "CUW",
          "CYM",
          "CYP",
          "CZE",
          "DEU",
          "DJI",
          "DMA",
          "DNK",
          "DOM",
          "DZA",
          "ECU",
          "EGY",
          "ERI",
          "ESP",
          "EST",
          "ETH",
          "FIN",
          "FJI",
          "FRA",
          "FRO",
          "FSM",
          "GAB",
          "GBR",
          "GEO",
          "GHA",
          "GIB",
          "GIN",
          "GMB",
          "GNB",
          "GNQ",
          "GRC",
          "GRD",
          "GRL",
          "GTM",
          "GUM",
          "GUY",
          "HKG",
          "HND",
          "HRV",
          "HTI",
          "HUN",
          "IDN",
          "IMN",
          "IND",
          "IRL",
          "IRN",
          "IRQ",
          "ISL",
          "ISR",
          "ITA",
          "JAM",
          "JOR",
          "JPN",
          "KAZ",
          "KEN",
          "KGZ",
          "KHM",
          "KIR",
          "KNA",
          "KOR",
          "KWT",
          "LAO",
          "LBN",
          "LBR",
          "LBY",
          "LCA",
          "LIE",
          "LKA",
          "LSO",
          "LTU",
          "LUX",
          "LVA",
          "MAC",
          "MAF",
          "MAR",
          "MCO",
          "MDA",
          "MDG",
          "MDV",
          "MEX",
          "MHL",
          "MKD",
          "MLI",
          "MLT",
          "MMR",
          "MNE",
          "MNG",
          "MNP",
          "MOZ",
          "MRT",
          "MUS",
          "MWI",
          "MYS",
          "NAM",
          "NCL",
          "NER",
          "NGA",
          "NIC",
          "NLD",
          "NOR",
          "NPL",
          "NRU",
          "NZL",
          "OMN",
          "PAK",
          "PAN",
          "PER",
          "PHL",
          "PLW",
          "PNG",
          "POL",
          "PRI",
          "PRK",
          "PRT",
          "PRY",
          "PSE",
          "PYF",
          "QAT",
          "ROU",
          "RUS",
          "RWA",
          "SAU",
          "SDN",
          "SEN",
          "SGP",
          "SLB",
          "SLE",
          "SLV",
          "SMR",
          "SOM",
          "SRB",
          "SSD",
          "STP",
          "SUR",
          "SVK",
          "SVN",
          "SWE",
          "SWZ",
          "SXM",
          "SYC",
          "SYR",
          "TCA",
          "TCD",
          "TGO",
          "THA",
          "TJK",
          "TKM",
          "TLS",
          "TON",
          "TTO",
          "TUN",
          "TUR",
          "TUV",
          "TZA",
          "UGA",
          "UKR",
          "URY",
          "USA",
          "UZB",
          "VCT",
          "VEN",
          "VGB",
          "VIR",
          "VNM",
          "VUT",
          "WSM",
          "YEM",
          "ZAF",
          "ZMB",
          "ZWE"
         ],
         "name": "",
         "type": "choropleth",
         "z": [
          0.001271856408479266,
          0.004033433876927006,
          0.00004260678302614451,
          0.000019312258530135296,
          0.00009946424255247166,
          0.000005477666761066757,
          0.00004523603212192029,
          0.00009962534366536602,
          0.0005726591823105309,
          0.0001032997792549395,
          0.0006191780072839492,
          0.0002523018540330213,
          0.00010641721755177969,
          0.0026024014005230356,
          0.000002059438273249725,
          0.000032214820620879436,
          0.000023321058975511733,
          0.004477123243177061,
          2.495731905582943e-7,
          0.00006433640149339226,
          0.0002544034996674327,
          0.00022911940416747711,
          0.00007335384127316047,
          0.00008495703426092405,
          0.0002450589623634869,
          0.00009732425441200121,
          0.00007577172053174763,
          0.00005726535206918015,
          0.0000018378612196556787,
          0.000006144736346413993,
          0.000057872753259857745,
          0.00018202650022658418,
          0.001990191933586516,
          0.00024184773045021757,
          0.00216616601157682,
          0.0020513907871020365,
          0.0006175140720614536,
          0.0005778109256340258,
          0.0017026666420463243,
          0.00047212142921182476,
          0.01926541990263786,
          0.00003216471819200706,
          0.00001767150627074443,
          0.000003878999777384706,
          0.000008765441990021827,
          0.0022093176878428267,
          0.0009076474603801898,
          0.0000033067204867620603,
          0.000015446819560338554,
          0.000544034531586135,
          0.000011017384409228725,
          0.000021143505279042074,
          0.00001780011933760761,
          0.00013125469753560992,
          0.0017827674424211182,
          0.001793302716222911,
          0.0005705008931471411,
          0.00006919021922158208,
          0.0063288988343686015,
          0.00004445376376338572,
          0.0023524811755919472,
          0.00002386565104472993,
          0.000178030792227446,
          0.00023905250807843004,
          0.0002838542998375715,
          0.00011679545075082842,
          0.00006236872880549527,
          0.00031208348271150044,
          0.001446304006151422,
          0.0002722010714251155,
          0.0002568813564494121,
          0.00002163488724704621,
          0.00013276103977943876,
          0.00014831691018457605,
          0.00006574403133186024,
          0.000029360713796222626,
          2.690611040634394e-7,
          0.000013953948567291263,
          0.0005230378927905122,
          5.542444938555491e-7,
          0.0001338589992769812,
          0.00006706837977787927,
          0.000005047257644719139,
          0.00018028508658574083,
          0.00003586996619731053,
          0.000452637052617888,
          0.0001328583594641941,
          0.00007792437307330147,
          0.01000880523487524,
          0.0003636813661529459,
          0.0037429615540531813,
          0.0007530954953409719,
          0.000028116120418530954,
          0.00007717766555970229,
          0.0013958376689373608,
          0.000008770095078602935,
          0.0023009874739017278,
          0.0004290363808223674,
          0.000929926353435917,
          0.00030278230629221525,
          0.00009462625010314696,
          0.00007012294797448249,
          0.00005219242410703373,
          0.00020194627640535145,
          0.002218130686458153,
          0.0063732955034225824,
          0.00006711368683909313,
          0.004871571104160921,
          0.00005249646508787009,
          0.0002666739352719105,
          3.1965427638169785e-7,
          0.00007883099841876628,
          0.0001062964728504312,
          0.000004394445198840913,
          0.00006536558778691415,
          0.0000035398684161691563,
          0.00010916515553560657,
          0.0004415534433377388,
          0.00004147366659879026,
          0.00025269238811631567,
          0.00012922833410300427,
          0.0008777575562817219,
          0.00004643779111290769,
          0.00003140514311894549,
          0.001986154219252967,
          0.00003713045806819082,
          0.00014919100355825776,
          0.00011360804766979982,
          0.00011298545118165748,
          0.00024115401323854257,
          0.0000034755669702235537,
          0.00003681165682678511,
          0.00010685447968228345,
          0.00022769966453495272,
          0.00023121507251744333,
          0.000004582329410141028,
          0.0002945251888348821,
          0.0013477964890995509,
          0.00006482939740237725,
          0.00022721860314334208,
          0.000012451113420297588,
          0.00023691258060409837,
          0.0002019672576523135,
          0.00003998183032649649,
          0.00003454549998593848,
          0.020974271314543103,
          0.0009426851000995384,
          0.0005095506070631473,
          0.006422977854583678,
          0.015238442379668982,
          0.000286979734283932,
          0.007737633812311628,
          0.0027171969696553333,
          0.000005193299443817523,
          0.000046818010474680705,
          0.000030276775135007483,
          0.0009199926618066456,
          0.000028518426219648063,
          0.0002661630571481055,
          0.0002603192073848959,
          0.000008553590333804095,
          0.000039045391943659524,
          0.002151833845388751,
          0.00046956819258525684,
          0.0013340727878414782,
          0.0009283686711825112,
          0.06520430398536803,
          0.0019142159728176011,
          0.00004383933909934967,
          0.00016894987868454336,
          0.000002490255255338525,
          0.0000946558285050969,
          0.00004279880701574257,
          0.000045214830691975294,
          0.0006083396864084989,
          0.00009613837646327283,
          0.005032212131197866,
          0.00017934388932872025,
          0.00011591236901153934,
          0.0007512829483147243,
          0.000230030225424116,
          0.00046177716924944434,
          0.000014348119037776996,
          0.00035208260572971994,
          0.000011491953557651868,
          0.1464565142487544,
          0.00001785792751718418,
          0.00014070174707114802,
          0.00010201958215816376,
          0.00003916687057881063,
          0.0008261878981841164,
          0.00004248928424033238,
          0.0000863067098606507,
          0.0001423276133039053,
          0.00015202961552063243,
          0.000051931922854464574,
          0.011152282525230817,
          0.00006147023216840353,
          0.0013089555897209948,
          0.0021972048504323993,
          0.00020741994674722264,
          0.00009290599595601634,
          0.02697793582726149,
          0.00048005846791454587,
          0.00036505848059675827,
          0.08986802588484011,
          0.00012078889945144056,
          0.00002241899662180913,
          0.0004642087622528379,
          0.00012619622836496092,
          0.000021324605242512007,
          0.00037303046038061893,
          0.00041594748888940103,
          0.0000968985442000303,
          0.0003424657074191373
         ]
        }
       ],
       "layout": {
        "coloraxis": {
         "colorbar": {
          "title": {
           "text": "mse_combined"
          }
         },
         "colorscale": [
          [
           0,
           "#0d0887"
          ],
          [
           0.1111111111111111,
           "#46039f"
          ],
          [
           0.2222222222222222,
           "#7201a8"
          ],
          [
           0.3333333333333333,
           "#9c179e"
          ],
          [
           0.4444444444444444,
           "#bd3786"
          ],
          [
           0.5555555555555556,
           "#d8576b"
          ],
          [
           0.6666666666666666,
           "#ed7953"
          ],
          [
           0.7777777777777778,
           "#fb9f3a"
          ],
          [
           0.8888888888888888,
           "#fdca26"
          ],
          [
           1,
           "#f0f921"
          ]
         ]
        },
        "geo": {
         "center": {},
         "domain": {
          "x": [
           0,
           1
          ],
          "y": [
           0,
           1
          ]
         },
         "projection": {
          "type": "equirectangular"
         },
         "showcoastlines": false,
         "showframe": false
        },
        "legend": {
         "tracegroupgap": 0
        },
        "template": {
         "data": {
          "bar": [
           {
            "error_x": {
             "color": "#2a3f5f"
            },
            "error_y": {
             "color": "#2a3f5f"
            },
            "marker": {
             "line": {
              "color": "#E5ECF6",
              "width": 0.5
             },
             "pattern": {
              "fillmode": "overlay",
              "size": 10,
              "solidity": 0.2
             }
            },
            "type": "bar"
           }
          ],
          "barpolar": [
           {
            "marker": {
             "line": {
              "color": "#E5ECF6",
              "width": 0.5
             },
             "pattern": {
              "fillmode": "overlay",
              "size": 10,
              "solidity": 0.2
             }
            },
            "type": "barpolar"
           }
          ],
          "carpet": [
           {
            "aaxis": {
             "endlinecolor": "#2a3f5f",
             "gridcolor": "white",
             "linecolor": "white",
             "minorgridcolor": "white",
             "startlinecolor": "#2a3f5f"
            },
            "baxis": {
             "endlinecolor": "#2a3f5f",
             "gridcolor": "white",
             "linecolor": "white",
             "minorgridcolor": "white",
             "startlinecolor": "#2a3f5f"
            },
            "type": "carpet"
           }
          ],
          "choropleth": [
           {
            "colorbar": {
             "outlinewidth": 0,
             "ticks": ""
            },
            "type": "choropleth"
           }
          ],
          "contour": [
           {
            "colorbar": {
             "outlinewidth": 0,
             "ticks": ""
            },
            "colorscale": [
             [
              0,
              "#0d0887"
             ],
             [
              0.1111111111111111,
              "#46039f"
             ],
             [
              0.2222222222222222,
              "#7201a8"
             ],
             [
              0.3333333333333333,
              "#9c179e"
             ],
             [
              0.4444444444444444,
              "#bd3786"
             ],
             [
              0.5555555555555556,
              "#d8576b"
             ],
             [
              0.6666666666666666,
              "#ed7953"
             ],
             [
              0.7777777777777778,
              "#fb9f3a"
             ],
             [
              0.8888888888888888,
              "#fdca26"
             ],
             [
              1,
              "#f0f921"
             ]
            ],
            "type": "contour"
           }
          ],
          "contourcarpet": [
           {
            "colorbar": {
             "outlinewidth": 0,
             "ticks": ""
            },
            "type": "contourcarpet"
           }
          ],
          "heatmap": [
           {
            "colorbar": {
             "outlinewidth": 0,
             "ticks": ""
            },
            "colorscale": [
             [
              0,
              "#0d0887"
             ],
             [
              0.1111111111111111,
              "#46039f"
             ],
             [
              0.2222222222222222,
              "#7201a8"
             ],
             [
              0.3333333333333333,
              "#9c179e"
             ],
             [
              0.4444444444444444,
              "#bd3786"
             ],
             [
              0.5555555555555556,
              "#d8576b"
             ],
             [
              0.6666666666666666,
              "#ed7953"
             ],
             [
              0.7777777777777778,
              "#fb9f3a"
             ],
             [
              0.8888888888888888,
              "#fdca26"
             ],
             [
              1,
              "#f0f921"
             ]
            ],
            "type": "heatmap"
           }
          ],
          "heatmapgl": [
           {
            "colorbar": {
             "outlinewidth": 0,
             "ticks": ""
            },
            "colorscale": [
             [
              0,
              "#0d0887"
             ],
             [
              0.1111111111111111,
              "#46039f"
             ],
             [
              0.2222222222222222,
              "#7201a8"
             ],
             [
              0.3333333333333333,
              "#9c179e"
             ],
             [
              0.4444444444444444,
              "#bd3786"
             ],
             [
              0.5555555555555556,
              "#d8576b"
             ],
             [
              0.6666666666666666,
              "#ed7953"
             ],
             [
              0.7777777777777778,
              "#fb9f3a"
             ],
             [
              0.8888888888888888,
              "#fdca26"
             ],
             [
              1,
              "#f0f921"
             ]
            ],
            "type": "heatmapgl"
           }
          ],
          "histogram": [
           {
            "marker": {
             "pattern": {
              "fillmode": "overlay",
              "size": 10,
              "solidity": 0.2
             }
            },
            "type": "histogram"
           }
          ],
          "histogram2d": [
           {
            "colorbar": {
             "outlinewidth": 0,
             "ticks": ""
            },
            "colorscale": [
             [
              0,
              "#0d0887"
             ],
             [
              0.1111111111111111,
              "#46039f"
             ],
             [
              0.2222222222222222,
              "#7201a8"
             ],
             [
              0.3333333333333333,
              "#9c179e"
             ],
             [
              0.4444444444444444,
              "#bd3786"
             ],
             [
              0.5555555555555556,
              "#d8576b"
             ],
             [
              0.6666666666666666,
              "#ed7953"
             ],
             [
              0.7777777777777778,
              "#fb9f3a"
             ],
             [
              0.8888888888888888,
              "#fdca26"
             ],
             [
              1,
              "#f0f921"
             ]
            ],
            "type": "histogram2d"
           }
          ],
          "histogram2dcontour": [
           {
            "colorbar": {
             "outlinewidth": 0,
             "ticks": ""
            },
            "colorscale": [
             [
              0,
              "#0d0887"
             ],
             [
              0.1111111111111111,
              "#46039f"
             ],
             [
              0.2222222222222222,
              "#7201a8"
             ],
             [
              0.3333333333333333,
              "#9c179e"
             ],
             [
              0.4444444444444444,
              "#bd3786"
             ],
             [
              0.5555555555555556,
              "#d8576b"
             ],
             [
              0.6666666666666666,
              "#ed7953"
             ],
             [
              0.7777777777777778,
              "#fb9f3a"
             ],
             [
              0.8888888888888888,
              "#fdca26"
             ],
             [
              1,
              "#f0f921"
             ]
            ],
            "type": "histogram2dcontour"
           }
          ],
          "mesh3d": [
           {
            "colorbar": {
             "outlinewidth": 0,
             "ticks": ""
            },
            "type": "mesh3d"
           }
          ],
          "parcoords": [
           {
            "line": {
             "colorbar": {
              "outlinewidth": 0,
              "ticks": ""
             }
            },
            "type": "parcoords"
           }
          ],
          "pie": [
           {
            "automargin": true,
            "type": "pie"
           }
          ],
          "scatter": [
           {
            "fillpattern": {
             "fillmode": "overlay",
             "size": 10,
             "solidity": 0.2
            },
            "type": "scatter"
           }
          ],
          "scatter3d": [
           {
            "line": {
             "colorbar": {
              "outlinewidth": 0,
              "ticks": ""
             }
            },
            "marker": {
             "colorbar": {
              "outlinewidth": 0,
              "ticks": ""
             }
            },
            "type": "scatter3d"
           }
          ],
          "scattercarpet": [
           {
            "marker": {
             "colorbar": {
              "outlinewidth": 0,
              "ticks": ""
             }
            },
            "type": "scattercarpet"
           }
          ],
          "scattergeo": [
           {
            "marker": {
             "colorbar": {
              "outlinewidth": 0,
              "ticks": ""
             }
            },
            "type": "scattergeo"
           }
          ],
          "scattergl": [
           {
            "marker": {
             "colorbar": {
              "outlinewidth": 0,
              "ticks": ""
             }
            },
            "type": "scattergl"
           }
          ],
          "scattermapbox": [
           {
            "marker": {
             "colorbar": {
              "outlinewidth": 0,
              "ticks": ""
             }
            },
            "type": "scattermapbox"
           }
          ],
          "scatterpolar": [
           {
            "marker": {
             "colorbar": {
              "outlinewidth": 0,
              "ticks": ""
             }
            },
            "type": "scatterpolar"
           }
          ],
          "scatterpolargl": [
           {
            "marker": {
             "colorbar": {
              "outlinewidth": 0,
              "ticks": ""
             }
            },
            "type": "scatterpolargl"
           }
          ],
          "scatterternary": [
           {
            "marker": {
             "colorbar": {
              "outlinewidth": 0,
              "ticks": ""
             }
            },
            "type": "scatterternary"
           }
          ],
          "surface": [
           {
            "colorbar": {
             "outlinewidth": 0,
             "ticks": ""
            },
            "colorscale": [
             [
              0,
              "#0d0887"
             ],
             [
              0.1111111111111111,
              "#46039f"
             ],
             [
              0.2222222222222222,
              "#7201a8"
             ],
             [
              0.3333333333333333,
              "#9c179e"
             ],
             [
              0.4444444444444444,
              "#bd3786"
             ],
             [
              0.5555555555555556,
              "#d8576b"
             ],
             [
              0.6666666666666666,
              "#ed7953"
             ],
             [
              0.7777777777777778,
              "#fb9f3a"
             ],
             [
              0.8888888888888888,
              "#fdca26"
             ],
             [
              1,
              "#f0f921"
             ]
            ],
            "type": "surface"
           }
          ],
          "table": [
           {
            "cells": {
             "fill": {
              "color": "#EBF0F8"
             },
             "line": {
              "color": "white"
             }
            },
            "header": {
             "fill": {
              "color": "#C8D4E3"
             },
             "line": {
              "color": "white"
             }
            },
            "type": "table"
           }
          ]
         },
         "layout": {
          "annotationdefaults": {
           "arrowcolor": "#2a3f5f",
           "arrowhead": 0,
           "arrowwidth": 1
          },
          "autotypenumbers": "strict",
          "coloraxis": {
           "colorbar": {
            "outlinewidth": 0,
            "ticks": ""
           }
          },
          "colorscale": {
           "diverging": [
            [
             0,
             "#8e0152"
            ],
            [
             0.1,
             "#c51b7d"
            ],
            [
             0.2,
             "#de77ae"
            ],
            [
             0.3,
             "#f1b6da"
            ],
            [
             0.4,
             "#fde0ef"
            ],
            [
             0.5,
             "#f7f7f7"
            ],
            [
             0.6,
             "#e6f5d0"
            ],
            [
             0.7,
             "#b8e186"
            ],
            [
             0.8,
             "#7fbc41"
            ],
            [
             0.9,
             "#4d9221"
            ],
            [
             1,
             "#276419"
            ]
           ],
           "sequential": [
            [
             0,
             "#0d0887"
            ],
            [
             0.1111111111111111,
             "#46039f"
            ],
            [
             0.2222222222222222,
             "#7201a8"
            ],
            [
             0.3333333333333333,
             "#9c179e"
            ],
            [
             0.4444444444444444,
             "#bd3786"
            ],
            [
             0.5555555555555556,
             "#d8576b"
            ],
            [
             0.6666666666666666,
             "#ed7953"
            ],
            [
             0.7777777777777778,
             "#fb9f3a"
            ],
            [
             0.8888888888888888,
             "#fdca26"
            ],
            [
             1,
             "#f0f921"
            ]
           ],
           "sequentialminus": [
            [
             0,
             "#0d0887"
            ],
            [
             0.1111111111111111,
             "#46039f"
            ],
            [
             0.2222222222222222,
             "#7201a8"
            ],
            [
             0.3333333333333333,
             "#9c179e"
            ],
            [
             0.4444444444444444,
             "#bd3786"
            ],
            [
             0.5555555555555556,
             "#d8576b"
            ],
            [
             0.6666666666666666,
             "#ed7953"
            ],
            [
             0.7777777777777778,
             "#fb9f3a"
            ],
            [
             0.8888888888888888,
             "#fdca26"
            ],
            [
             1,
             "#f0f921"
            ]
           ]
          },
          "colorway": [
           "#636efa",
           "#EF553B",
           "#00cc96",
           "#ab63fa",
           "#FFA15A",
           "#19d3f3",
           "#FF6692",
           "#B6E880",
           "#FF97FF",
           "#FECB52"
          ],
          "font": {
           "color": "#2a3f5f"
          },
          "geo": {
           "bgcolor": "white",
           "lakecolor": "white",
           "landcolor": "#E5ECF6",
           "showlakes": true,
           "showland": true,
           "subunitcolor": "white"
          },
          "hoverlabel": {
           "align": "left"
          },
          "hovermode": "closest",
          "mapbox": {
           "style": "light"
          },
          "paper_bgcolor": "white",
          "plot_bgcolor": "#E5ECF6",
          "polar": {
           "angularaxis": {
            "gridcolor": "white",
            "linecolor": "white",
            "ticks": ""
           },
           "bgcolor": "#E5ECF6",
           "radialaxis": {
            "gridcolor": "white",
            "linecolor": "white",
            "ticks": ""
           }
          },
          "scene": {
           "xaxis": {
            "backgroundcolor": "#E5ECF6",
            "gridcolor": "white",
            "gridwidth": 2,
            "linecolor": "white",
            "showbackground": true,
            "ticks": "",
            "zerolinecolor": "white"
           },
           "yaxis": {
            "backgroundcolor": "#E5ECF6",
            "gridcolor": "white",
            "gridwidth": 2,
            "linecolor": "white",
            "showbackground": true,
            "ticks": "",
            "zerolinecolor": "white"
           },
           "zaxis": {
            "backgroundcolor": "#E5ECF6",
            "gridcolor": "white",
            "gridwidth": 2,
            "linecolor": "white",
            "showbackground": true,
            "ticks": "",
            "zerolinecolor": "white"
           }
          },
          "shapedefaults": {
           "line": {
            "color": "#2a3f5f"
           }
          },
          "ternary": {
           "aaxis": {
            "gridcolor": "white",
            "linecolor": "white",
            "ticks": ""
           },
           "baxis": {
            "gridcolor": "white",
            "linecolor": "white",
            "ticks": ""
           },
           "bgcolor": "#E5ECF6",
           "caxis": {
            "gridcolor": "white",
            "linecolor": "white",
            "ticks": ""
           }
          },
          "title": {
           "x": 0.05
          },
          "xaxis": {
           "automargin": true,
           "gridcolor": "white",
           "linecolor": "white",
           "ticks": "",
           "title": {
            "standoff": 15
           },
           "zerolinecolor": "white",
           "zerolinewidth": 2
          },
          "yaxis": {
           "automargin": true,
           "gridcolor": "white",
           "linecolor": "white",
           "ticks": "",
           "title": {
            "standoff": 15
           },
           "zerolinecolor": "white",
           "zerolinewidth": 2
          }
         }
        },
        "title": {
         "text": "MSE of LSTM Model Predictions by Country"
        }
       }
      }
     },
     "metadata": {},
     "output_type": "display_data"
    }
   ],
   "source": [
    "import pandas as pd\n",
    "import plotly.express as px\n",
    "\n",
    "\n",
    "# Plotting the world map with the MSE data\n",
    "fig = px.choropleth(\n",
    "    mse_df,\n",
    "    locations=\"country\", \n",
    "    locationmode='ISO-3',  # Use the ISO-3 code for country identification\n",
    "    color=\"mse_combined\", \n",
    "    hover_name=\"country\", \n",
    "    color_continuous_scale=px.colors.sequential.Plasma,\n",
    "    title=\"MSE of LSTM Model Predictions by Country\"\n",
    ")\n",
    "\n",
    "fig.update_layout(\n",
    "    geo=dict(\n",
    "        showframe=False,\n",
    "        showcoastlines=False,\n",
    "        projection_type='equirectangular'\n",
    "    ),\n",
    ")\n",
    "\n",
    "fig.show()\n"
   ]
  }
 ],
 "metadata": {
  "kernelspec": {
   "display_name": ".dl_venv",
   "language": "python",
   "name": "python3"
  },
  "language_info": {
   "codemirror_mode": {
    "name": "ipython",
    "version": 3
   },
   "file_extension": ".py",
   "mimetype": "text/x-python",
   "name": "python",
   "nbconvert_exporter": "python",
   "pygments_lexer": "ipython3",
   "version": "3.12.2"
  }
 },
 "nbformat": 4,
 "nbformat_minor": 2
}
