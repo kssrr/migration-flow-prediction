{
 "cells": [
  {
   "cell_type": "markdown",
   "metadata": {},
   "source": [
    "# Preprocessing\n",
    "\n",
    "Log-transformation where neccessary, scaling & model-based imputation"
   ]
  },
  {
   "cell_type": "code",
   "execution_count": 1,
   "metadata": {},
   "outputs": [],
   "source": [
    "import pandas as pd\n",
    "import numpy as np\n",
    "\n",
    "from sklearn.preprocessing import MinMaxScaler, FunctionTransformer\n",
    "from sklearn.compose import ColumnTransformer\n",
    "from sklearn.pipeline import Pipeline\n",
    "from sklearn.experimental import enable_iterative_imputer\n",
    "from sklearn.impute import IterativeImputer\n",
    "#from sklearn.ensemble import RandomForestRegressor\n",
    "from sklearn.linear_model import BayesianRidge"
   ]
  },
  {
   "cell_type": "code",
   "execution_count": 2,
   "metadata": {},
   "outputs": [
    {
     "data": {
      "text/plain": [
       "(2176, 13)"
      ]
     },
     "execution_count": 2,
     "metadata": {},
     "output_type": "execute_result"
    }
   ],
   "source": [
    "data = pd.read_csv(\"../data/final/full.csv\")\n",
    "\n",
    "# Restrict to OECD:\n",
    "oecd = [\n",
    "    \"AUS\", \"AUT\", \"BEL\", \"CAN\", \"CHL\", \"CZE\", \"DNK\", \n",
    "    \"EST\", \"FIN\", \"FRA\", \"DEU\", \"GRC\", \"HUN\", \"ISL\", \n",
    "    \"IRL\", \"ISR\", \"ITA\", \"JPN\", \"KOR\", \"LUX\", \"MEX\", \n",
    "    \"NLD\", \"NZL\", \"NOR\", \"POL\", \"PRT\", \"SVK\", \"SVN\", \n",
    "    \"ESP\", \"SWE\", \"CHE\", \"TUR\", \"GBR\", \"USA\"\n",
    "]\n",
    "\n",
    "data = data[data[\"iso3\"].isin(oecd)].reset_index(drop=True)\n",
    "data.shape"
   ]
  },
  {
   "cell_type": "markdown",
   "metadata": {},
   "source": [
    "## Engineering additional features"
   ]
  },
  {
   "cell_type": "markdown",
   "metadata": {},
   "source": [
    "One-hot encoding countries and years:"
   ]
  },
  {
   "cell_type": "code",
   "execution_count": 4,
   "metadata": {},
   "outputs": [],
   "source": [
    "data = pd.concat([\n",
    "    data,\n",
    "    pd.get_dummies(data[\"iso3\"], dtype=int),\n",
    "    pd.get_dummies(data[\"year\"], dtype=int)\n",
    "], axis=1)\n",
    "\n",
    "data.columns = data.columns.astype(str) # pandas sucks ass"
   ]
  },
  {
   "cell_type": "markdown",
   "metadata": {},
   "source": [
    "## Transformations"
   ]
  },
  {
   "cell_type": "code",
   "execution_count": 15,
   "metadata": {},
   "outputs": [],
   "source": [
    "log_features = [\"conflict_deaths\", \"gdp\", \"disaster_deaths_per_100k\", \"population\"]\n",
    "numeric_features = [*log_features, \"gdp_growth\", \"internet_usage\", \"liberal_dem\", \"pop_growth\", \"unemployment_youth\"]\n",
    "\n",
    "to_use = list(data.drop([\"net_migration\", \"iso3\", \"year\"], axis=1).columns)"
   ]
  },
  {
   "cell_type": "code",
   "execution_count": 16,
   "metadata": {},
   "outputs": [],
   "source": [
    "log_transformer = FunctionTransformer(\n",
    "    func=lambda X: X.assign(**{col: np.log1p(X[col]) for col in log_features}),\n",
    "    validate=False\n",
    ")\n",
    "\n",
    "numeric_pipeline = Pipeline(steps=[\n",
    "    ('log', log_transformer),\n",
    "    ('scaler', MinMaxScaler())\n",
    "])\n",
    "\n",
    "preprocessor = ColumnTransformer(\n",
    "    transformers=[\n",
    "        ('num', numeric_pipeline, numeric_features)\n",
    "    ],\n",
    "    remainder='passthrough'\n",
    ")\n",
    "\n",
    "imputer = IterativeImputer(\n",
    "    estimator=BayesianRidge(),\n",
    "    random_state=42,\n",
    "    verbose=2,\n",
    "    max_iter=100\n",
    ")\n",
    "\n",
    "pipeline = Pipeline(steps=[\n",
    "    ('preprocessor', preprocessor),\n",
    "    ('imputer', imputer)\n",
    "])"
   ]
  },
  {
   "cell_type": "code",
   "execution_count": 20,
   "metadata": {},
   "outputs": [
    {
     "name": "stdout",
     "output_type": "stream",
     "text": [
      "[IterativeImputer] Completing matrix with shape (2176, 108)\n",
      "[IterativeImputer] Ending imputation round 1/500, elapsed time 2.32\n",
      "[IterativeImputer] Change: 1.0624056545265685, scaled tolerance: 0.0010000000000000005 \n",
      "[IterativeImputer] Ending imputation round 2/500, elapsed time 4.98\n",
      "[IterativeImputer] Change: 0.1276755512673873, scaled tolerance: 0.0010000000000000005 \n",
      "[IterativeImputer] Ending imputation round 3/500, elapsed time 7.88\n",
      "[IterativeImputer] Change: 0.025764768238444383, scaled tolerance: 0.0010000000000000005 \n",
      "[IterativeImputer] Ending imputation round 4/500, elapsed time 10.90\n",
      "[IterativeImputer] Change: 0.004373384141189915, scaled tolerance: 0.0010000000000000005 \n",
      "[IterativeImputer] Ending imputation round 5/500, elapsed time 13.23\n",
      "[IterativeImputer] Change: 0.0009405761011839348, scaled tolerance: 0.0010000000000000005 \n",
      "[IterativeImputer] Early stopping criterion reached.\n"
     ]
    }
   ],
   "source": [
    "transformed = pipeline.fit_transform(data[to_use])"
   ]
  },
  {
   "cell_type": "code",
   "execution_count": 22,
   "metadata": {},
   "outputs": [],
   "source": [
    "final = pd.concat([\n",
    "    data[[\"iso3\", \"year\", \"net_migration\"]],\n",
    "    pd.DataFrame(transformed, columns=to_use)\n",
    "], axis=1)"
   ]
  },
  {
   "cell_type": "code",
   "execution_count": 24,
   "metadata": {},
   "outputs": [],
   "source": [
    "final.to_csv(\"../data/final/preprocessed.csv\")"
   ]
  }
 ],
 "metadata": {
  "kernelspec": {
   "display_name": "base",
   "language": "python",
   "name": "python3"
  },
  "language_info": {
   "codemirror_mode": {
    "name": "ipython",
    "version": 3
   },
   "file_extension": ".py",
   "mimetype": "text/x-python",
   "name": "python",
   "nbconvert_exporter": "python",
   "pygments_lexer": "ipython3",
   "version": "3.11.5"
  }
 },
 "nbformat": 4,
 "nbformat_minor": 2
}
