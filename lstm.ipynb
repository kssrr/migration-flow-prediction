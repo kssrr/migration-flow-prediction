{
 "cells": [
  {
   "cell_type": "markdown",
   "metadata": {},
   "source": [
    "# LSTM\n",
    "\n",
    "LSTM-RNN to predict bilateral migration flows."
   ]
  },
  {
   "cell_type": "code",
   "execution_count": 63,
   "metadata": {},
   "outputs": [
    {
     "name": "stdout",
     "output_type": "stream",
     "text": [
      "Using cpu\n"
     ]
    }
   ],
   "source": [
    "import torch\n",
    "import torch.nn as nn\n",
    "import torch.nn.functional as F\n",
    "import torch.optim as optim\n",
    "\n",
    "import pandas as pd\n",
    "import numpy as np\n",
    "import seaborn as sns\n",
    "import matplotlib.pyplot as plt\n",
    "\n",
    "from sklearn.metrics import mean_squared_error, mean_absolute_error, r2_score\n",
    "from sklearn.preprocessing import minmax_scale\n",
    "from sklearn.model_selection import train_test_split\n",
    "from sklearn.metrics import mean_squared_error, mean_absolute_error, r2_score\n",
    "\n",
    "from torch.utils.data import Dataset, DataLoader\n",
    "\n",
    "torch.manual_seed(42)\n",
    "\n",
    "device = torch.device(\"cuda\") if torch.cuda.is_available() else torch.device(\"cpu\")\n",
    "print(f\"Using {device}\")"
   ]
  },
  {
   "cell_type": "markdown",
   "metadata": {},
   "source": [
    "Importing data:"
   ]
  },
  {
   "cell_type": "code",
   "execution_count": 2,
   "metadata": {},
   "outputs": [],
   "source": [
    "data = pd.read_csv(\"../data/processed_data.csv\", index_col=[0])\n",
    "\n",
    "# Add dyad indicator:\n",
    "data[\"dyad\"] = [f\"{origin}-{dest}\" for origin, dest in zip(data[\"origin_iso3\"], data[\"destination_iso3\"])]\n",
    "data = data[[\"dyad\"] + [col for col in data.columns if col != \"dyad\"]] # move to front\n",
    "data[\"dyad\"] = data[\"dyad\"].astype(\"category\")\n",
    "\n",
    "data[\"total_linear\"] = minmax_scale(data[\"total_linear\"]) # scaling what will be the target\n",
    "\n",
    "data = data.sort_values([\"dyad\", \"year\"]).reset_index(drop=True)"
   ]
  },
  {
   "cell_type": "markdown",
   "metadata": {},
   "source": [
    "Function to collect metrics:"
   ]
  },
  {
   "cell_type": "code",
   "execution_count": 3,
   "metadata": {},
   "outputs": [],
   "source": [
    "def collect_metrics(y: np.array, y_hat: np.array) -> dict:\n",
    "    metrics = {\n",
    "        \"MSE\": mean_squared_error(y, y_hat),\n",
    "        \"RMSE\": np.sqrt(mean_squared_error(y, y_hat)),\n",
    "        \"MAE\": mean_absolute_error(y, y_hat),\n",
    "        \"R-squared\": r2_score(y, y_hat)\n",
    "    }\n",
    "\n",
    "    return metrics"
   ]
  },
  {
   "cell_type": "markdown",
   "metadata": {},
   "source": [
    "## Data Prep"
   ]
  },
  {
   "cell_type": "markdown",
   "metadata": {},
   "source": [
    "Here we have to make up our mind on what to predict:\n",
    "\n",
    "* **Predict the full sequence:** Build a model that takes as input the features for an entire time series for a dyad & predicts how migration for that dyad developed\n",
    "\n",
    "* **Predict the next year:** Hold back the last year (element) of a series. Give the model all other elements of the series & ask it to predict the last value for migration (basically: given past development of features & target in the series, how will the next target value look given the next feature values)\n",
    "\n",
    "*The approach:*\n",
    "\n",
    "* *Inputs:* Features and target at $t$\n",
    "* *Output:* Target at $t+1$\n",
    "\n",
    "(See for example [this paper](https://arxiv.org/pdf/2005.09902))\n",
    "\n",
    "The model will be fed a sequence of a specified length (can change this) of features to predict the target (i.e. will get sequence of features & target from 5 years to predict target (number of migrants) in the next year)"
   ]
  },
  {
   "cell_type": "code",
   "execution_count": 4,
   "metadata": {},
   "outputs": [],
   "source": [
    "# Target will be migrants at t+1 (called \"migrants\"):\n",
    "\n",
    "data[\"migrants\"] = data.groupby(by=\"dyad\").shift(-1)[\"total_linear\"]\n",
    "data = data.dropna(subset=\"migrants\")"
   ]
  },
  {
   "cell_type": "markdown",
   "metadata": {},
   "source": [
    "Define target and features:"
   ]
  },
  {
   "cell_type": "code",
   "execution_count": 5,
   "metadata": {},
   "outputs": [],
   "source": [
    "target = \"migrants\"\n",
    "features = list(data.select_dtypes(include=\"number\").drop([\"year\", target], axis=1).columns)"
   ]
  },
  {
   "cell_type": "markdown",
   "metadata": {},
   "source": [
    "Turn into sequences:"
   ]
  },
  {
   "cell_type": "code",
   "execution_count": 6,
   "metadata": {},
   "outputs": [],
   "source": [
    "def create_sequences(df: pd.DataFrame, seq_length: int) -> list:\n",
    "    sequences = []\n",
    "    for _, group in df.groupby(\"dyad\"):\n",
    "        for i in range(len(group) - seq_length):\n",
    "            seq = group.iloc[i:i+seq_length][features].values\n",
    "            target = group.iloc[i+seq_length]['migrants']\n",
    "            sequences.append((seq, target))\n",
    "    return sequences\n",
    "\n",
    "seq_length = 5  # Number of time steps used for prediction\n",
    "sequences = create_sequences(data, seq_length) # <- change to \"data\""
   ]
  },
  {
   "cell_type": "markdown",
   "metadata": {},
   "source": [
    "Custom dataset:"
   ]
  },
  {
   "cell_type": "code",
   "execution_count": 7,
   "metadata": {},
   "outputs": [],
   "source": [
    "class MigrationDataset(Dataset):\n",
    "    def __init__(self, sequences):\n",
    "        self.sequences = sequences\n",
    "\n",
    "    def __len__(self):\n",
    "        return len(self.sequences)\n",
    "\n",
    "    def __getitem__(self, idx):\n",
    "        x, y = self.sequences[idx]\n",
    "        return torch.tensor(x, dtype=torch.float32), torch.tensor(y, dtype=torch.float32)"
   ]
  },
  {
   "cell_type": "markdown",
   "metadata": {},
   "source": [
    "Initial split & data structures:"
   ]
  },
  {
   "cell_type": "code",
   "execution_count": 8,
   "metadata": {},
   "outputs": [],
   "source": [
    "train_seqs, test_seqs = train_test_split(sequences, test_size=0.2, random_state=42)\n",
    "train_seqs, val_seqs = train_test_split(train_seqs, test_size=0.2, random_state=42)\n",
    "\n",
    "train_set = MigrationDataset(train_seqs)\n",
    "val_set = MigrationDataset(val_seqs)\n",
    "test_set = MigrationDataset(test_seqs)\n",
    "\n",
    "train_loader = DataLoader(train_set, batch_size=32, shuffle=True)\n",
    "val_loader = DataLoader(val_set, batch_size=32, shuffle=False)\n",
    "test_loader = DataLoader(test_set, batch_size=32, shuffle=False)"
   ]
  },
  {
   "cell_type": "markdown",
   "metadata": {},
   "source": [
    "## Model"
   ]
  },
  {
   "cell_type": "markdown",
   "metadata": {},
   "source": [
    "Architecture:"
   ]
  },
  {
   "cell_type": "code",
   "execution_count": 20,
   "metadata": {},
   "outputs": [],
   "source": [
    "class LSTMModel(nn.Module):\n",
    "\n",
    "    def __init__(self, input_size, hidden_size, output_size, num_layers):\n",
    "        super(LSTMModel, self).__init__()\n",
    "        self.lstm = nn.LSTM(input_size, hidden_size, num_layers, batch_first=True)\n",
    "        self.fc = nn.Linear(hidden_size, output_size)\n",
    "    \n",
    "    def forward(self, x):\n",
    "        h0 = torch.zeros(self.lstm.num_layers, x.size(0), self.lstm.hidden_size).to(x.device)\n",
    "        c0 = torch.zeros(self.lstm.num_layers, x.size(0), self.lstm.hidden_size).to(x.device)\n",
    "        out, _ = self.lstm(x, (h0, c0))\n",
    "        out = self.fc(out[:, -1, :])\n",
    "        return out"
   ]
  },
  {
   "cell_type": "markdown",
   "metadata": {},
   "source": [
    "Parameters:"
   ]
  },
  {
   "cell_type": "code",
   "execution_count": 21,
   "metadata": {},
   "outputs": [],
   "source": [
    "input_size = len(sequences[0][0][0])  # Number of features per time step; just use the first sequence to check...\n",
    "hidden_size = 128\n",
    "num_layers = 2\n",
    "output_size = 1  # Predicting a single value (migration flow) for the next year\n",
    "\n",
    "model = LSTMModel(input_size=input_size, hidden_size=hidden_size, num_layers=num_layers, output_size=output_size)"
   ]
  },
  {
   "cell_type": "markdown",
   "metadata": {},
   "source": [
    "Loss function and optimizer:"
   ]
  },
  {
   "cell_type": "code",
   "execution_count": 22,
   "metadata": {},
   "outputs": [],
   "source": [
    "criterion = nn.MSELoss()\n",
    "optimizer = optim.Adam(model.parameters(), lr=0.001)"
   ]
  },
  {
   "cell_type": "markdown",
   "metadata": {},
   "source": [
    "## Training"
   ]
  },
  {
   "cell_type": "markdown",
   "metadata": {},
   "source": [
    "Implement setting checkpoints & restoring best weights:"
   ]
  },
  {
   "cell_type": "code",
   "execution_count": 23,
   "metadata": {},
   "outputs": [],
   "source": [
    "def checkpoint(model) -> None:\n",
    "    torch.save(model.state_dict(), \"checkpoint.pth\")\n",
    "\n",
    "def restore_best_weights(model) -> None:\n",
    "    model.load_state_dict(torch.load(\"checkpoint.pth\"))"
   ]
  },
  {
   "cell_type": "markdown",
   "metadata": {},
   "source": [
    "Early stopping implementation:"
   ]
  },
  {
   "cell_type": "code",
   "execution_count": 24,
   "metadata": {},
   "outputs": [],
   "source": [
    "class EarlyStopping:\n",
    "    \n",
    "    def __init__(self, patience=10, min_delta=0):\n",
    "        self.patience = patience\n",
    "        self.min_delta = min_delta\n",
    "        self.counter = 0\n",
    "        self.best_loss = float(\"Inf\")\n",
    "        self.early_stop = False\n",
    "\n",
    "    def __call__(self, val_loss):\n",
    "        if val_loss < self.best_loss - self.min_delta:\n",
    "            self.best_loss = val_loss\n",
    "            self.counter = 0\n",
    "        else:\n",
    "            self.counter += 1\n",
    "            if self.counter >= self.patience:\n",
    "                self.early_stop = True\n",
    "            \n",
    "\n",
    "stopper = EarlyStopping()"
   ]
  },
  {
   "cell_type": "markdown",
   "metadata": {},
   "source": [
    "Train loop:"
   ]
  },
  {
   "cell_type": "code",
   "execution_count": 25,
   "metadata": {},
   "outputs": [],
   "source": [
    "def validate(model: LSTMModel, val_loader: DataLoader, criterion: nn.MSELoss) -> float:\n",
    "    model.eval()\n",
    "    with torch.no_grad():\n",
    "        total_loss = 0\n",
    "        for features, targets in val_loader:\n",
    "            pred = model(features)\n",
    "            loss = criterion(pred, targets.unsqueeze(1))\n",
    "            total_loss += loss.item()\n",
    "    \n",
    "    return total_loss\n",
    "\n",
    "def train(model: LSTMModel, train_loader: DataLoader, val_loader: DataLoader, epochs: int, criterion: nn.MSELoss) -> list:\n",
    "\n",
    "    losses = []\n",
    "\n",
    "    for epoch in range(epochs):\n",
    "\n",
    "        # Train step\n",
    "\n",
    "        model.train()\n",
    "\n",
    "        epoch_train_loss = 0\n",
    "\n",
    "        for features, targets in train_loader:\n",
    "            pred = model(features)\n",
    "            loss = criterion(pred, targets.unsqueeze(1))  # Adjust target shape for loss calculation\n",
    "        \n",
    "            optimizer.zero_grad()\n",
    "            loss.backward()\n",
    "            optimizer.step()\n",
    "            epoch_train_loss += loss.item()\n",
    "        \n",
    "        # Validation step\n",
    "\n",
    "        epoch_val_loss = validate(model, val_loader, criterion)\n",
    "\n",
    "        stopper(epoch_val_loss)\n",
    "\n",
    "        print(f\"Epoch {epoch+1} done: Training loss: {epoch_train_loss}, Validation loss: {epoch_val_loss}, Patience counter: {stopper.counter}\")\n",
    "        losses.append({\"epoch\": epoch+1, \"training\": epoch_train_loss, \"validation\": epoch_val_loss})\n",
    "\n",
    "        if stopper.counter == 0:\n",
    "            checkpoint(model)\n",
    "\n",
    "        if stopper.early_stop:\n",
    "            print(f\"Patience exceeded, stopping training & restoring best weights...\")\n",
    "            restore_best_weights(model)\n",
    "            break\n",
    "\n",
    "    return losses"
   ]
  },
  {
   "cell_type": "code",
   "execution_count": 26,
   "metadata": {},
   "outputs": [
    {
     "name": "stdout",
     "output_type": "stream",
     "text": [
      "Epoch 1 done: Training loss: 0.5442803300434775, Validation loss: 0.10270642452269385, Patience counter: 0\n",
      "Epoch 2 done: Training loss: 0.13190589155595944, Validation loss: 0.10033799088341766, Patience counter: 0\n",
      "Epoch 3 done: Training loss: 0.4124589088730204, Validation loss: 0.02156046701543346, Patience counter: 0\n",
      "Epoch 4 done: Training loss: 0.11782475599579811, Validation loss: 0.03825719871929323, Patience counter: 1\n",
      "Epoch 5 done: Training loss: 0.13633491671589582, Validation loss: 0.007020119407911807, Patience counter: 0\n",
      "Epoch 6 done: Training loss: 0.07190433202615054, Validation loss: 0.010006981093965805, Patience counter: 1\n",
      "Epoch 7 done: Training loss: 0.03682473039464185, Validation loss: 0.003717544453309074, Patience counter: 0\n",
      "Epoch 8 done: Training loss: 0.09324437346791825, Validation loss: 0.010464591960499092, Patience counter: 1\n",
      "Epoch 9 done: Training loss: 0.04013409324335271, Validation loss: 0.00615170358537398, Patience counter: 2\n",
      "Epoch 10 done: Training loss: 0.08699683886403875, Validation loss: 0.010249799452253683, Patience counter: 3\n",
      "Epoch 11 done: Training loss: 0.04314470916023083, Validation loss: 0.003318033723616054, Patience counter: 0\n",
      "Epoch 12 done: Training loss: 0.031093676997755892, Validation loss: 0.008863284662879778, Patience counter: 1\n",
      "Epoch 13 done: Training loss: 0.034676556907513145, Validation loss: 0.0030643414867554952, Patience counter: 0\n",
      "Epoch 14 done: Training loss: 0.01720615945603754, Validation loss: 0.0018821078449491324, Patience counter: 0\n",
      "Epoch 15 done: Training loss: 0.025918877569274912, Validation loss: 0.006156817516057345, Patience counter: 1\n",
      "Epoch 16 done: Training loss: 0.015451868254345413, Validation loss: 0.002672401191659901, Patience counter: 2\n",
      "Epoch 17 done: Training loss: 0.02187167753977093, Validation loss: 0.0025027158150123796, Patience counter: 3\n",
      "Epoch 18 done: Training loss: 0.01646016925987226, Validation loss: 0.001203012078633492, Patience counter: 0\n",
      "Epoch 19 done: Training loss: 0.015511568569490208, Validation loss: 0.0013869104904671303, Patience counter: 1\n",
      "Epoch 20 done: Training loss: 0.01463882811488304, Validation loss: 0.00125554393684979, Patience counter: 2\n",
      "Epoch 21 done: Training loss: 0.015121626100771834, Validation loss: 0.004679214407588006, Patience counter: 3\n",
      "Epoch 22 done: Training loss: 0.050365497244918345, Validation loss: 0.002155298387407356, Patience counter: 4\n",
      "Epoch 23 done: Training loss: 0.01356495692779447, Validation loss: 0.0017008810438881028, Patience counter: 5\n",
      "Epoch 24 done: Training loss: 0.013488419051029155, Validation loss: 0.0007898964876389414, Patience counter: 0\n",
      "Epoch 25 done: Training loss: 0.008194207373993123, Validation loss: 0.0019171154383101907, Patience counter: 1\n",
      "Epoch 26 done: Training loss: 0.011609855501465205, Validation loss: 0.0029487358328879054, Patience counter: 2\n",
      "Epoch 27 done: Training loss: 0.009530200528178767, Validation loss: 0.003298147065876833, Patience counter: 3\n",
      "Epoch 28 done: Training loss: 0.00843805309254364, Validation loss: 0.0008929274104509943, Patience counter: 4\n",
      "Epoch 29 done: Training loss: 0.008426802872588013, Validation loss: 0.0005135667448072923, Patience counter: 0\n",
      "Epoch 30 done: Training loss: 0.0126979168143464, Validation loss: 0.0008082995506768498, Patience counter: 1\n",
      "Epoch 31 done: Training loss: 0.009543311945222399, Validation loss: 0.0012485032154128106, Patience counter: 2\n",
      "Epoch 32 done: Training loss: 0.011222285456547354, Validation loss: 0.001342516693455309, Patience counter: 3\n",
      "Epoch 33 done: Training loss: 0.00697776173665865, Validation loss: 0.0012808418695815504, Patience counter: 4\n",
      "Epoch 34 done: Training loss: 0.006919325048027503, Validation loss: 0.0011771487635083844, Patience counter: 5\n",
      "Epoch 35 done: Training loss: 0.005785381347743979, Validation loss: 0.0011462816906089301, Patience counter: 6\n",
      "Epoch 36 done: Training loss: 0.00974200440754558, Validation loss: 0.00037238814900319994, Patience counter: 0\n",
      "Epoch 37 done: Training loss: 0.005831483171892415, Validation loss: 0.0005613827936130633, Patience counter: 1\n",
      "Epoch 38 done: Training loss: 0.00926286443018931, Validation loss: 0.0010430786007162851, Patience counter: 2\n",
      "Epoch 39 done: Training loss: 0.006803180615339244, Validation loss: 0.001350560516950594, Patience counter: 3\n",
      "Epoch 40 done: Training loss: 0.005557397442794709, Validation loss: 0.0006723609286218846, Patience counter: 4\n",
      "Epoch 41 done: Training loss: 0.005522866101394186, Validation loss: 0.0005168755939415348, Patience counter: 5\n",
      "Epoch 42 done: Training loss: 0.007656511895735463, Validation loss: 0.0006358136442408124, Patience counter: 6\n",
      "Epoch 43 done: Training loss: 0.006996943276816658, Validation loss: 0.0005637561007301173, Patience counter: 7\n",
      "Epoch 44 done: Training loss: 0.004096889820802474, Validation loss: 0.00039090110927375576, Patience counter: 8\n",
      "Epoch 45 done: Training loss: 0.005309738692343302, Validation loss: 0.0005901321907373358, Patience counter: 9\n",
      "Epoch 46 done: Training loss: 0.006441732290081603, Validation loss: 0.0010861293420703078, Patience counter: 10\n",
      "Patience exceeded, stopping training & restoring best weights...\n"
     ]
    },
    {
     "name": "stderr",
     "output_type": "stream",
     "text": [
      "/tmp/ipykernel_30705/3484606476.py:5: FutureWarning: You are using `torch.load` with `weights_only=False` (the current default value), which uses the default pickle module implicitly. It is possible to construct malicious pickle data which will execute arbitrary code during unpickling (See https://github.com/pytorch/pytorch/blob/main/SECURITY.md#untrusted-models for more details). In a future release, the default value for `weights_only` will be flipped to `True`. This limits the functions that could be executed during unpickling. Arbitrary objects will no longer be allowed to be loaded via this mode unless they are explicitly allowlisted by the user via `torch.serialization.add_safe_globals`. We recommend you start setting `weights_only=True` for any use case where you don't have full control of the loaded file. Please open an issue on GitHub for any issues related to this experimental feature.\n",
      "  model.load_state_dict(torch.load(\"checkpoint.pth\"))\n"
     ]
    }
   ],
   "source": [
    "losses = train(model=model, train_loader=train_loader, val_loader=val_loader, epochs=100, criterion=criterion)"
   ]
  },
  {
   "cell_type": "markdown",
   "metadata": {},
   "source": [
    "## Model Evaluation"
   ]
  },
  {
   "cell_type": "code",
   "execution_count": 42,
   "metadata": {},
   "outputs": [
    {
     "data": {
      "text/plain": [
       "<Axes: xlabel='epoch', ylabel='value'>"
      ]
     },
     "execution_count": 42,
     "metadata": {},
     "output_type": "execute_result"
    },
    {
     "data": {
      "image/png": "[encoded data removed]",
      "text/plain": [
       "<Figure size 640x480 with 1 Axes>"
      ]
     },
     "metadata": {},
     "output_type": "display_data"
    }
   ],
   "source": [
    "losses = pd.DataFrame(losses)\n",
    "\n",
    "sns.lineplot(\n",
    "    data=losses.melt(id_vars=\"epoch\", var_name=\"loss\"),\n",
    "    x=\"epoch\",\n",
    "    y=\"value\",\n",
    "    hue=\"loss\"\n",
    ")"
   ]
  },
  {
   "cell_type": "code",
   "execution_count": 47,
   "metadata": {},
   "outputs": [],
   "source": [
    "def eval(model: LSTMModel, test_loader: DataLoader):\n",
    "    model.eval()\n",
    "    \n",
    "    mse = []\n",
    "    mae = []\n",
    "    \n",
    "    with torch.no_grad():\n",
    "        for features, targets in test_loader:\n",
    "            outputs = model(features)\n",
    "            targets = targets.unsqueeze(1)\n",
    "            \n",
    "            mse_i = F.mse_loss(outputs, targets, reduction='mean').item()\n",
    "            mse.append(mse_i)\n",
    "\n",
    "            mae_i = F.l1_loss(outputs, targets, reduction='mean').item()\n",
    "            mae.append(mae_i)\n",
    "    \n",
    "    metrics = {\n",
    "        \"MSE\": np.mean(mse),\n",
    "        \"RMSE\": np.sqrt(np.mean(mse)),\n",
    "        \"MAE\": np.mean(mae)\n",
    "    }\n",
    "    \n",
    "    return metrics"
   ]
  },
  {
   "cell_type": "code",
   "execution_count": 54,
   "metadata": {},
   "outputs": [
    {
     "data": {
      "text/plain": [
       "{'MSE': 9.524792493698718e-07,\n",
       " 'RMSE': 0.0009759504338694009,\n",
       " 'MAE': 0.000294351546006648}"
      ]
     },
     "execution_count": 54,
     "metadata": {},
     "output_type": "execute_result"
    }
   ],
   "source": [
    "metrics = eval(model, test_loader)\n",
    "metrics"
   ]
  },
  {
   "cell_type": "markdown",
   "metadata": {},
   "source": [
    "Rescaling to have substantive interpretation:"
   ]
  },
  {
   "cell_type": "code",
   "execution_count": 59,
   "metadata": {},
   "outputs": [
    {
     "name": "stdout",
     "output_type": "stream",
     "text": [
      "Metrics rescaled to original units:\n",
      "\n",
      "MSE: 141039636.28665176\n",
      "RMSE: 11876.01095851009\n",
      "MAE: 3581.864472532349\n"
     ]
    }
   ],
   "source": [
    "migrants = pd.read_csv(\"../data/processed_data.csv\", index_col=[0])[\"total_linear\"]\n",
    "omin, omax = migrants.min(), migrants.max()\n",
    "\n",
    "scale = omax - omin\n",
    "\n",
    "print(f\"Metrics rescaled to original units:\\n\\nMSE: {metrics['MSE'] * (scale ** 2)}\\nRMSE: {metrics['RMSE'] * scale}\\nMAE: {metrics['MAE'] * scale}\")"
   ]
  },
  {
   "cell_type": "markdown",
   "metadata": {},
   "source": [
    "Rescaled to original units, so MAE $\\rightarrow$ predictions on average 3581 migrants off. Much higher RMSE suggests outliers (which is unsurprising), should probably log-transform the target as well.\n",
    "\n",
    "Comparing predicted values to actuals visually:"
   ]
  },
  {
   "cell_type": "code",
   "execution_count": 61,
   "metadata": {},
   "outputs": [],
   "source": [
    "def collect_predictions(model: LSTMModel, data_loader: DataLoader) -> tuple:\n",
    "    model.eval()\n",
    "    predictions = []\n",
    "    actuals = []\n",
    "    \n",
    "    with torch.no_grad():\n",
    "        for features, targets in data_loader:\n",
    "            outputs = model(features)\n",
    "            predictions.extend(outputs.cpu().numpy().flatten())\n",
    "            actuals.extend(targets.cpu().numpy().flatten())\n",
    "    \n",
    "    return predictions, actuals\n",
    "\n",
    "predictions, actuals = collect_predictions(model, test_loader)"
   ]
  },
  {
   "cell_type": "code",
   "execution_count": 77,
   "metadata": {},
   "outputs": [],
   "source": [
    "# Rescaling back to original units (migrants):\n",
    "\n",
    "def rescale(scaled: list, omin: float, omax: float) -> np.array:\n",
    "    return [x * (omax - omin) + omin for x in scaled]\n",
    "\n",
    "predictions, actuals = rescale(predictions, omin=omin, omax=omax), rescale(actuals, omin=omin, omax=omax)"
   ]
  },
  {
   "cell_type": "code",
   "execution_count": 79,
   "metadata": {},
   "outputs": [
    {
     "data": {
      "image/png": "[encoded data removed]",
      "text/plain": [
       "<Figure size 1000x600 with 1 Axes>"
      ]
     },
     "metadata": {},
     "output_type": "display_data"
    }
   ],
   "source": [
    "# Create a scatterplot using Seaborn\n",
    "plt.figure(figsize=(10, 6))\n",
    "sns.scatterplot(x=actuals, y=predictions, color=\"black\", s=10)\n",
    "\n",
    "# Draw the main diagonal line y = x\n",
    "min_val = min(min(actuals), min(predictions))\n",
    "max_val = max(max(actuals), max(predictions))\n",
    "plt.plot([min_val, max_val], [min_val, max_val], 'r--', linewidth=1)\n",
    "\n",
    "plt.xlabel('Actual Values')\n",
    "plt.ylabel('Predicted Values')\n",
    "plt.title('Actual vs. Predicted Migrants')\n",
    "plt.show()"
   ]
  }
 ],
 "metadata": {
  "kernelspec": {
   "display_name": "base",
   "language": "python",
   "name": "python3"
  },
  "language_info": {
   "codemirror_mode": {
    "name": "ipython",
    "version": 3
   },
   "file_extension": ".py",
   "mimetype": "text/x-python",
   "name": "python",
   "nbconvert_exporter": "python",
   "pygments_lexer": "ipython3",
   "version": "3.11.5"
  }
 },
 "nbformat": 4,
 "nbformat_minor": 2
}
